{
  "nbformat": 4,
  "nbformat_minor": 0,
  "metadata": {
    "colab": {
      "name": "Logarithm.ipynb",
      "provenance": [],
      "collapsed_sections": []
    },
    "kernelspec": {
      "name": "python3",
      "display_name": "Python 3"
    },
    "language_info": {
      "name": "python"
    }
  },
  "cells": [
    {
      "cell_type": "markdown",
      "metadata": {
        "id": "nEt7PbWMeNla"
      },
      "source": [
        "### **Logarithm**\n",
        "Logarithm is the **`inverse function to exponentiation`**. That means the logarithm of a given number x is the exponent to which another fixed number, the base b, must be raised, to produce that number x.\n",
        "\n",
        "<p align=\"center\">\n",
        "  <img src=\"log.png\" height=\"200\" width=\"200\" title=\"hover text\" alt=\"Normal distribution\">\n",
        "  \n",
        "</p>"
      ]
    },
    {
      "cell_type": "code",
      "metadata": {
        "id": "KH-e79SpRDpa"
      },
      "source": [
        "import numpy as np\n",
        "import pandas as pd\n",
        "import matplotlib.pyplot as plt\n",
        "import seaborn as sns"
      ],
      "execution_count": null,
      "outputs": []
    },
    {
      "cell_type": "code",
      "metadata": {
        "id": "0xbIPwQyWbhl"
      },
      "source": [
        "data = pd.DataFrame({\"Name\":[\"A\",\"B\",\"C\",'D','E','F','G','H','I','J'],\n",
        "                     \"Income\":[20000,25000,1000,15000,12000,99000, 52000,3000,150000,8000]                     \n",
        "                     })"
      ],
      "execution_count": null,
      "outputs": []
    },
    {
      "cell_type": "code",
      "metadata": {
        "colab": {
          "base_uri": "https://localhost:8080/",
          "height": 205
        },
        "id": "1A2s9WJoXtvJ",
        "outputId": "cd633ad5-e14e-42de-aa07-ff1e7016bbc7"
      },
      "source": [
        "data.head()"
      ],
      "execution_count": null,
      "outputs": [
        {
          "output_type": "execute_result",
          "data": {
            "text/html": [
              "<div>\n",
              "<style scoped>\n",
              "    .dataframe tbody tr th:only-of-type {\n",
              "        vertical-align: middle;\n",
              "    }\n",
              "\n",
              "    .dataframe tbody tr th {\n",
              "        vertical-align: top;\n",
              "    }\n",
              "\n",
              "    .dataframe thead th {\n",
              "        text-align: right;\n",
              "    }\n",
              "</style>\n",
              "<table border=\"1\" class=\"dataframe\">\n",
              "  <thead>\n",
              "    <tr style=\"text-align: right;\">\n",
              "      <th></th>\n",
              "      <th>Name</th>\n",
              "      <th>Income</th>\n",
              "    </tr>\n",
              "  </thead>\n",
              "  <tbody>\n",
              "    <tr>\n",
              "      <th>0</th>\n",
              "      <td>A</td>\n",
              "      <td>20000</td>\n",
              "    </tr>\n",
              "    <tr>\n",
              "      <th>1</th>\n",
              "      <td>B</td>\n",
              "      <td>25000</td>\n",
              "    </tr>\n",
              "    <tr>\n",
              "      <th>2</th>\n",
              "      <td>C</td>\n",
              "      <td>1000</td>\n",
              "    </tr>\n",
              "    <tr>\n",
              "      <th>3</th>\n",
              "      <td>D</td>\n",
              "      <td>15000</td>\n",
              "    </tr>\n",
              "    <tr>\n",
              "      <th>4</th>\n",
              "      <td>E</td>\n",
              "      <td>12000</td>\n",
              "    </tr>\n",
              "  </tbody>\n",
              "</table>\n",
              "</div>"
            ],
            "text/plain": [
              "  Name  Income\n",
              "0    A   20000\n",
              "1    B   25000\n",
              "2    C    1000\n",
              "3    D   15000\n",
              "4    E   12000"
            ]
          },
          "metadata": {
            "tags": []
          },
          "execution_count": 4
        }
      ]
    },
    {
      "cell_type": "code",
      "metadata": {
        "colab": {
          "base_uri": "https://localhost:8080/",
          "height": 333
        },
        "id": "CDV8ZuuWXzq1",
        "outputId": "c4dde0a9-4b3a-4443-811f-7a9574ae2a35"
      },
      "source": [
        "plt.figure(figsize=(20,15))\n",
        "data.plot(x = \"Name\", y = \"Income\", kind = \"bar\", rot= 0)\n",
        "plt.title(\"Person's Income\\n\", size = 15)\n",
        "plt.grid()\n",
        "plt.show()"
      ],
      "execution_count": null,
      "outputs": [
        {
          "output_type": "display_data",
          "data": {
            "text/plain": [
              "<Figure size 1440x1080 with 0 Axes>"
            ]
          },
          "metadata": {
            "tags": []
          }
        },
        {
          "output_type": "display_data",
          "data": {
            "image/png": "[encoded data removed]",
            "text/plain": [
              "<Figure size 432x288 with 1 Axes>"
            ]
          },
          "metadata": {
            "tags": [],
            "needs_background": "light"
          }
        }
      ]
    },
    {
      "cell_type": "markdown",
      "metadata": {
        "id": "AByQm8W4ZS49"
      },
      "source": [
        "**From above bar chart we cannot properly compare and visualize Income of `C` and `H` properly. Because the income of `I` is more then income of any other, So the bar of `I` squeezes low income bars. This problem will be more if we have millions of record. So to solve this problem we use apply logarithm function on income.**"
      ]
    },
    {
      "cell_type": "markdown",
      "metadata": {
        "id": "4Lbndzq9cx71"
      },
      "source": [
        "**To apply log function only add `logy = True` in .plot()**"
      ]
    },
    {
      "cell_type": "code",
      "metadata": {
        "colab": {
          "base_uri": "https://localhost:8080/",
          "height": 333
        },
        "id": "Acy8aIh6cVoU",
        "outputId": "f6ecf734-4ca9-4e66-95a3-1ced7c75b194"
      },
      "source": [
        "plt.figure(figsize=(20,15))\n",
        "data.plot(x = \"Name\", y = \"Income\", kind = \"bar\", rot= 0, logy = True)\n",
        "plt.title(\"Person's Income\\n\", size = 15)\n",
        "plt.grid()\n",
        "plt.show()"
      ],
      "execution_count": null,
      "outputs": [
        {
          "output_type": "display_data",
          "data": {
            "text/plain": [
              "<Figure size 1440x1080 with 0 Axes>"
            ]
          },
          "metadata": {
            "tags": []
          }
        },
        {
          "output_type": "display_data",
          "data": {
            "image/png": "[encoded data removed]",
            "text/plain": [
              "<Figure size 432x288 with 1 Axes>"
            ]
          },
          "metadata": {
            "tags": [],
            "needs_background": "light"
          }
        }
      ]
    },
    {
      "cell_type": "markdown",
      "metadata": {
        "id": "N3dYYBhcdEts"
      },
      "source": [
        "**It make analysis easy, now we can easily compare low income of a person as well**"
      ]
    },
    {
      "cell_type": "code",
      "metadata": {
        "id": "lBIN75GlcPfN"
      },
      "source": [
        ""
      ],
      "execution_count": null,
      "outputs": []
    }
  ]
}