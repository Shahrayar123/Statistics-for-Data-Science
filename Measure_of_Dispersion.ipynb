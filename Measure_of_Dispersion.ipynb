{
  "nbformat": 4,
  "nbformat_minor": 0,
  "metadata": {
    "colab": {
      "name": "Measure_of_Dispersion.ipynb",
      "provenance": [],
      "collapsed_sections": []
    },
    "kernelspec": {
      "name": "python3",
      "display_name": "Python 3"
    }
  },
  "cells": [
    {
      "cell_type": "markdown",
      "metadata": {
        "id": "3CJ6kdcMSCYG"
      },
      "source": [
        "\r\n",
        "\r\n",
        "### 1.  **Range**\r\n",
        "\r\n",
        "\r\n"
      ]
    },
    {
      "cell_type": "markdown",
      "metadata": {
        "id": "ujZXf105Gttn"
      },
      "source": [
        "**Range = Max - Min**"
      ]
    },
    {
      "cell_type": "markdown",
      "metadata": {
        "id": "BnSOmP6nspOy"
      },
      "source": [
        "Importing required libraries"
      ]
    },
    {
      "cell_type": "code",
      "metadata": {
        "id": "nN1gPXi4sl64"
      },
      "source": [
        "import numpy as np\r\n",
        "import pandas as pd"
      ],
      "execution_count": 1,
      "outputs": []
    },
    {
      "cell_type": "code",
      "metadata": {
        "id": "BAcDWH84sy_S"
      },
      "source": [
        "ages = np.random.randint(10,90,20)"
      ],
      "execution_count": null,
      "outputs": []
    },
    {
      "cell_type": "code",
      "metadata": {
        "colab": {
          "base_uri": "https://localhost:8080/"
        },
        "id": "199mtpY-tHWe",
        "outputId": "d1cbe1ca-3fe8-4954-d172-683abe3fabaf"
      },
      "source": [
        "ages"
      ],
      "execution_count": null,
      "outputs": [
        {
          "output_type": "execute_result",
          "data": {
            "text/plain": [
              "array([84, 74, 36, 65, 78, 12, 57, 34, 65, 11, 66, 36, 87, 86, 36, 73, 21,\n",
              "       66, 70, 24])"
            ]
          },
          "metadata": {
            "tags": []
          },
          "execution_count": 7
        }
      ]
    },
    {
      "cell_type": "code",
      "metadata": {
        "id": "GH7a_3MXGU7v"
      },
      "source": [
        "max = np.max(ages)\r\n",
        "min = np.min(ages)"
      ],
      "execution_count": null,
      "outputs": []
    },
    {
      "cell_type": "code",
      "metadata": {
        "id": "UAC9BIQpGoZb"
      },
      "source": [
        "range = max - min"
      ],
      "execution_count": null,
      "outputs": []
    },
    {
      "cell_type": "code",
      "metadata": {
        "colab": {
          "base_uri": "https://localhost:8080/"
        },
        "id": "9L15C3C_GZOl",
        "outputId": "b1235da1-5d66-49ae-a47f-cbd068e496bc"
      },
      "source": [
        "range"
      ],
      "execution_count": null,
      "outputs": [
        {
          "output_type": "execute_result",
          "data": {
            "text/plain": [
              "76"
            ]
          },
          "metadata": {
            "tags": []
          },
          "execution_count": 13
        }
      ]
    },
    {
      "cell_type": "markdown",
      "metadata": {
        "id": "j3wfyKJgJBzZ"
      },
      "source": [
        "\r\n",
        "\r\n",
        "---\r\n",
        "\r\n",
        "\r\n",
        "\r\n",
        "\r\n",
        "\r\n"
      ]
    },
    {
      "cell_type": "code",
      "metadata": {
        "id": "bZmsUdtEG5Ci"
      },
      "source": [
        "import seaborn"
      ],
      "execution_count": 2,
      "outputs": []
    },
    {
      "cell_type": "code",
      "metadata": {
        "id": "TaqBOLlSJG4A"
      },
      "source": [
        "data = seaborn.load_dataset('titanic')"
      ],
      "execution_count": 3,
      "outputs": []
    },
    {
      "cell_type": "code",
      "metadata": {
        "colab": {
          "base_uri": "https://localhost:8080/",
          "height": 222
        },
        "id": "aMZBzWRQJOtT",
        "outputId": "e3537546-c977-4351-f9f2-68ed36491633"
      },
      "source": [
        "data.head()"
      ],
      "execution_count": 4,
      "outputs": [
        {
          "output_type": "execute_result",
          "data": {
            "text/html": [
              "<div>\n",
              "<style scoped>\n",
              "    .dataframe tbody tr th:only-of-type {\n",
              "        vertical-align: middle;\n",
              "    }\n",
              "\n",
              "    .dataframe tbody tr th {\n",
              "        vertical-align: top;\n",
              "    }\n",
              "\n",
              "    .dataframe thead th {\n",
              "        text-align: right;\n",
              "    }\n",
              "</style>\n",
              "<table border=\"1\" class=\"dataframe\">\n",
              "  <thead>\n",
              "    <tr style=\"text-align: right;\">\n",
              "      <th></th>\n",
              "      <th>survived</th>\n",
              "      <th>pclass</th>\n",
              "      <th>sex</th>\n",
              "      <th>age</th>\n",
              "      <th>sibsp</th>\n",
              "      <th>parch</th>\n",
              "      <th>fare</th>\n",
              "      <th>embarked</th>\n",
              "      <th>class</th>\n",
              "      <th>who</th>\n",
              "      <th>adult_male</th>\n",
              "      <th>deck</th>\n",
              "      <th>embark_town</th>\n",
              "      <th>alive</th>\n",
              "      <th>alone</th>\n",
              "    </tr>\n",
              "  </thead>\n",
              "  <tbody>\n",
              "    <tr>\n",
              "      <th>0</th>\n",
              "      <td>0</td>\n",
              "      <td>3</td>\n",
              "      <td>male</td>\n",
              "      <td>22.0</td>\n",
              "      <td>1</td>\n",
              "      <td>0</td>\n",
              "      <td>7.2500</td>\n",
              "      <td>S</td>\n",
              "      <td>Third</td>\n",
              "      <td>man</td>\n",
              "      <td>True</td>\n",
              "      <td>NaN</td>\n",
              "      <td>Southampton</td>\n",
              "      <td>no</td>\n",
              "      <td>False</td>\n",
              "    </tr>\n",
              "    <tr>\n",
              "      <th>1</th>\n",
              "      <td>1</td>\n",
              "      <td>1</td>\n",
              "      <td>female</td>\n",
              "      <td>38.0</td>\n",
              "      <td>1</td>\n",
              "      <td>0</td>\n",
              "      <td>71.2833</td>\n",
              "      <td>C</td>\n",
              "      <td>First</td>\n",
              "      <td>woman</td>\n",
              "      <td>False</td>\n",
              "      <td>C</td>\n",
              "      <td>Cherbourg</td>\n",
              "      <td>yes</td>\n",
              "      <td>False</td>\n",
              "    </tr>\n",
              "    <tr>\n",
              "      <th>2</th>\n",
              "      <td>1</td>\n",
              "      <td>3</td>\n",
              "      <td>female</td>\n",
              "      <td>26.0</td>\n",
              "      <td>0</td>\n",
              "      <td>0</td>\n",
              "      <td>7.9250</td>\n",
              "      <td>S</td>\n",
              "      <td>Third</td>\n",
              "      <td>woman</td>\n",
              "      <td>False</td>\n",
              "      <td>NaN</td>\n",
              "      <td>Southampton</td>\n",
              "      <td>yes</td>\n",
              "      <td>True</td>\n",
              "    </tr>\n",
              "    <tr>\n",
              "      <th>3</th>\n",
              "      <td>1</td>\n",
              "      <td>1</td>\n",
              "      <td>female</td>\n",
              "      <td>35.0</td>\n",
              "      <td>1</td>\n",
              "      <td>0</td>\n",
              "      <td>53.1000</td>\n",
              "      <td>S</td>\n",
              "      <td>First</td>\n",
              "      <td>woman</td>\n",
              "      <td>False</td>\n",
              "      <td>C</td>\n",
              "      <td>Southampton</td>\n",
              "      <td>yes</td>\n",
              "      <td>False</td>\n",
              "    </tr>\n",
              "    <tr>\n",
              "      <th>4</th>\n",
              "      <td>0</td>\n",
              "      <td>3</td>\n",
              "      <td>male</td>\n",
              "      <td>35.0</td>\n",
              "      <td>0</td>\n",
              "      <td>0</td>\n",
              "      <td>8.0500</td>\n",
              "      <td>S</td>\n",
              "      <td>Third</td>\n",
              "      <td>man</td>\n",
              "      <td>True</td>\n",
              "      <td>NaN</td>\n",
              "      <td>Southampton</td>\n",
              "      <td>no</td>\n",
              "      <td>True</td>\n",
              "    </tr>\n",
              "  </tbody>\n",
              "</table>\n",
              "</div>"
            ],
            "text/plain": [
              "   survived  pclass     sex   age  ...  deck  embark_town  alive  alone\n",
              "0         0       3    male  22.0  ...   NaN  Southampton     no  False\n",
              "1         1       1  female  38.0  ...     C    Cherbourg    yes  False\n",
              "2         1       3  female  26.0  ...   NaN  Southampton    yes   True\n",
              "3         1       1  female  35.0  ...     C  Southampton    yes  False\n",
              "4         0       3    male  35.0  ...   NaN  Southampton     no   True\n",
              "\n",
              "[5 rows x 15 columns]"
            ]
          },
          "metadata": {
            "tags": []
          },
          "execution_count": 4
        }
      ]
    },
    {
      "cell_type": "code",
      "metadata": {
        "id": "JbKVzvGdJP31"
      },
      "source": [
        "max_age = data.age.max()\r\n",
        "min_age = data.age.min()"
      ],
      "execution_count": 5,
      "outputs": []
    },
    {
      "cell_type": "code",
      "metadata": {
        "id": "56X0peeLJVbE"
      },
      "source": [
        "max_fare = data.fare.max()\r\n",
        "min_fare = data.fare.min()"
      ],
      "execution_count": 6,
      "outputs": []
    },
    {
      "cell_type": "code",
      "metadata": {
        "id": "ia234VwvJieu"
      },
      "source": [
        "range_in_age = max_age - min_age\r\n",
        "range_in_fare = max_fare - min_fare"
      ],
      "execution_count": 7,
      "outputs": []
    },
    {
      "cell_type": "code",
      "metadata": {
        "colab": {
          "base_uri": "https://localhost:8080/"
        },
        "id": "0WsxQaz0Ked2",
        "outputId": "c9577555-8733-46a2-b986-58b8099c2c00"
      },
      "source": [
        "print(f\"Range in age is: {range_in_age}\")\r\n",
        "print(f'Range in fare is: {range_in_fare}')"
      ],
      "execution_count": 8,
      "outputs": [
        {
          "output_type": "stream",
          "text": [
            "Range in age is: 79.58\n",
            "Range in fare is: 512.3292\n"
          ],
          "name": "stdout"
        }
      ]
    },
    {
      "cell_type": "markdown",
      "metadata": {
        "id": "AUuQYuGcSxuI"
      },
      "source": [
        "### 2.   **Variance**"
      ]
    },
    {
      "cell_type": "markdown",
      "metadata": {
        "id": "aoDVBpp9AsAt"
      },
      "source": [
        "![download.png](data:image/png;base64,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)"
      ]
    },
    {
      "cell_type": "code",
      "metadata": {
        "id": "d3uPToCDSw2U",
        "colab": {
          "base_uri": "https://localhost:8080/",
          "height": 202
        },
        "outputId": "9c9fdc54-3c7b-4709-b292-08ee6ca7bbd8"
      },
      "source": [
        "data.head().select_dtypes(exclude=[\"O\",bool])"
      ],
      "execution_count": 16,
      "outputs": [
        {
          "output_type": "execute_result",
          "data": {
            "text/html": [
              "<div>\n",
              "<style scoped>\n",
              "    .dataframe tbody tr th:only-of-type {\n",
              "        vertical-align: middle;\n",
              "    }\n",
              "\n",
              "    .dataframe tbody tr th {\n",
              "        vertical-align: top;\n",
              "    }\n",
              "\n",
              "    .dataframe thead th {\n",
              "        text-align: right;\n",
              "    }\n",
              "</style>\n",
              "<table border=\"1\" class=\"dataframe\">\n",
              "  <thead>\n",
              "    <tr style=\"text-align: right;\">\n",
              "      <th></th>\n",
              "      <th>survived</th>\n",
              "      <th>pclass</th>\n",
              "      <th>age</th>\n",
              "      <th>sibsp</th>\n",
              "      <th>parch</th>\n",
              "      <th>fare</th>\n",
              "      <th>class</th>\n",
              "      <th>deck</th>\n",
              "    </tr>\n",
              "  </thead>\n",
              "  <tbody>\n",
              "    <tr>\n",
              "      <th>0</th>\n",
              "      <td>0</td>\n",
              "      <td>3</td>\n",
              "      <td>22.0</td>\n",
              "      <td>1</td>\n",
              "      <td>0</td>\n",
              "      <td>7.2500</td>\n",
              "      <td>Third</td>\n",
              "      <td>NaN</td>\n",
              "    </tr>\n",
              "    <tr>\n",
              "      <th>1</th>\n",
              "      <td>1</td>\n",
              "      <td>1</td>\n",
              "      <td>38.0</td>\n",
              "      <td>1</td>\n",
              "      <td>0</td>\n",
              "      <td>71.2833</td>\n",
              "      <td>First</td>\n",
              "      <td>C</td>\n",
              "    </tr>\n",
              "    <tr>\n",
              "      <th>2</th>\n",
              "      <td>1</td>\n",
              "      <td>3</td>\n",
              "      <td>26.0</td>\n",
              "      <td>0</td>\n",
              "      <td>0</td>\n",
              "      <td>7.9250</td>\n",
              "      <td>Third</td>\n",
              "      <td>NaN</td>\n",
              "    </tr>\n",
              "    <tr>\n",
              "      <th>3</th>\n",
              "      <td>1</td>\n",
              "      <td>1</td>\n",
              "      <td>35.0</td>\n",
              "      <td>1</td>\n",
              "      <td>0</td>\n",
              "      <td>53.1000</td>\n",
              "      <td>First</td>\n",
              "      <td>C</td>\n",
              "    </tr>\n",
              "    <tr>\n",
              "      <th>4</th>\n",
              "      <td>0</td>\n",
              "      <td>3</td>\n",
              "      <td>35.0</td>\n",
              "      <td>0</td>\n",
              "      <td>0</td>\n",
              "      <td>8.0500</td>\n",
              "      <td>Third</td>\n",
              "      <td>NaN</td>\n",
              "    </tr>\n",
              "  </tbody>\n",
              "</table>\n",
              "</div>"
            ],
            "text/plain": [
              "   survived  pclass   age  sibsp  parch     fare  class deck\n",
              "0         0       3  22.0      1      0   7.2500  Third  NaN\n",
              "1         1       1  38.0      1      0  71.2833  First    C\n",
              "2         1       3  26.0      0      0   7.9250  Third  NaN\n",
              "3         1       1  35.0      1      0  53.1000  First    C\n",
              "4         0       3  35.0      0      0   8.0500  Third  NaN"
            ]
          },
          "metadata": {
            "tags": []
          },
          "execution_count": 16
        }
      ]
    },
    {
      "cell_type": "markdown",
      "metadata": {
        "id": "_BSgYQBUD2Ak"
      },
      "source": [
        "**Population Variance** "
      ]
    },
    {
      "cell_type": "code",
      "metadata": {
        "id": "Z2O_sNOdBhss"
      },
      "source": [
        "def population_variance(data):\r\n",
        "    sum = 0\r\n",
        "    for i in data:\r\n",
        "      sum = sum + i\r\n",
        "    \r\n",
        "    mean = sum / len(data)\r\n",
        "\r\n",
        "    var = 0\r\n",
        "    for i in data:\r\n",
        "      var = var + (i - mean)**2\r\n",
        "    \r\n",
        "    return var / len(data)"
      ],
      "execution_count": 26,
      "outputs": []
    },
    {
      "cell_type": "code",
      "metadata": {
        "colab": {
          "base_uri": "https://localhost:8080/"
        },
        "id": "Ny82QRO1Bhxd",
        "outputId": "f5381b8d-c005-453f-f518-a0a39c7994c4"
      },
      "source": [
        "population_variance(data.fare)"
      ],
      "execution_count": 35,
      "outputs": [
        {
          "output_type": "execute_result",
          "data": {
            "text/plain": [
              "2466.6653116850434"
            ]
          },
          "metadata": {
            "tags": []
          },
          "execution_count": 35
        }
      ]
    },
    {
      "cell_type": "markdown",
      "metadata": {
        "id": "Exh6pDkpVP-D"
      },
      "source": [
        "**Variance with NumPy**"
      ]
    },
    {
      "cell_type": "code",
      "metadata": {
        "colab": {
          "base_uri": "https://localhost:8080/"
        },
        "id": "9SfDIjOyIKM_",
        "outputId": "c08b9eaa-b619-45cd-89f8-5b2fa324cce7"
      },
      "source": [
        "np.var(data.fare)"
      ],
      "execution_count": 36,
      "outputs": [
        {
          "output_type": "execute_result",
          "data": {
            "text/plain": [
              "2466.6653116850434"
            ]
          },
          "metadata": {
            "tags": []
          },
          "execution_count": 36
        }
      ]
    },
    {
      "cell_type": "markdown",
      "metadata": {
        "id": "wHwSn5egVs6D"
      },
      "source": [
        "------"
      ]
    },
    {
      "cell_type": "markdown",
      "metadata": {
        "id": "Gi6lrI_9VxAr"
      },
      "source": [
        "**Sample Variance**"
      ]
    },
    {
      "cell_type": "code",
      "metadata": {
        "id": "b8yOlbLUIKax"
      },
      "source": [
        "sample_data = data.iloc[100:600,:]"
      ],
      "execution_count": 46,
      "outputs": []
    },
    {
      "cell_type": "code",
      "metadata": {
        "colab": {
          "base_uri": "https://localhost:8080/",
          "height": 202
        },
        "id": "-PX-J7aAIKhb",
        "outputId": "bf430701-ec2f-49e1-aa5e-9cf4535a1472"
      },
      "source": [
        "sample_data.head().select_dtypes(exclude=[\"O\",bool])"
      ],
      "execution_count": 47,
      "outputs": [
        {
          "output_type": "execute_result",
          "data": {
            "text/html": [
              "<div>\n",
              "<style scoped>\n",
              "    .dataframe tbody tr th:only-of-type {\n",
              "        vertical-align: middle;\n",
              "    }\n",
              "\n",
              "    .dataframe tbody tr th {\n",
              "        vertical-align: top;\n",
              "    }\n",
              "\n",
              "    .dataframe thead th {\n",
              "        text-align: right;\n",
              "    }\n",
              "</style>\n",
              "<table border=\"1\" class=\"dataframe\">\n",
              "  <thead>\n",
              "    <tr style=\"text-align: right;\">\n",
              "      <th></th>\n",
              "      <th>survived</th>\n",
              "      <th>pclass</th>\n",
              "      <th>age</th>\n",
              "      <th>sibsp</th>\n",
              "      <th>parch</th>\n",
              "      <th>fare</th>\n",
              "      <th>class</th>\n",
              "      <th>deck</th>\n",
              "    </tr>\n",
              "  </thead>\n",
              "  <tbody>\n",
              "    <tr>\n",
              "      <th>100</th>\n",
              "      <td>0</td>\n",
              "      <td>3</td>\n",
              "      <td>28.0</td>\n",
              "      <td>0</td>\n",
              "      <td>0</td>\n",
              "      <td>7.8958</td>\n",
              "      <td>Third</td>\n",
              "      <td>NaN</td>\n",
              "    </tr>\n",
              "    <tr>\n",
              "      <th>101</th>\n",
              "      <td>0</td>\n",
              "      <td>3</td>\n",
              "      <td>NaN</td>\n",
              "      <td>0</td>\n",
              "      <td>0</td>\n",
              "      <td>7.8958</td>\n",
              "      <td>Third</td>\n",
              "      <td>NaN</td>\n",
              "    </tr>\n",
              "    <tr>\n",
              "      <th>102</th>\n",
              "      <td>0</td>\n",
              "      <td>1</td>\n",
              "      <td>21.0</td>\n",
              "      <td>0</td>\n",
              "      <td>1</td>\n",
              "      <td>77.2875</td>\n",
              "      <td>First</td>\n",
              "      <td>D</td>\n",
              "    </tr>\n",
              "    <tr>\n",
              "      <th>103</th>\n",
              "      <td>0</td>\n",
              "      <td>3</td>\n",
              "      <td>33.0</td>\n",
              "      <td>0</td>\n",
              "      <td>0</td>\n",
              "      <td>8.6542</td>\n",
              "      <td>Third</td>\n",
              "      <td>NaN</td>\n",
              "    </tr>\n",
              "    <tr>\n",
              "      <th>104</th>\n",
              "      <td>0</td>\n",
              "      <td>3</td>\n",
              "      <td>37.0</td>\n",
              "      <td>2</td>\n",
              "      <td>0</td>\n",
              "      <td>7.9250</td>\n",
              "      <td>Third</td>\n",
              "      <td>NaN</td>\n",
              "    </tr>\n",
              "  </tbody>\n",
              "</table>\n",
              "</div>"
            ],
            "text/plain": [
              "     survived  pclass   age  sibsp  parch     fare  class deck\n",
              "100         0       3  28.0      0      0   7.8958  Third  NaN\n",
              "101         0       3   NaN      0      0   7.8958  Third  NaN\n",
              "102         0       1  21.0      0      1  77.2875  First    D\n",
              "103         0       3  33.0      0      0   8.6542  Third  NaN\n",
              "104         0       3  37.0      2      0   7.9250  Third  NaN"
            ]
          },
          "metadata": {
            "tags": []
          },
          "execution_count": 47
        }
      ]
    },
    {
      "cell_type": "code",
      "metadata": {
        "colab": {
          "base_uri": "https://localhost:8080/"
        },
        "id": "rp7NC2c8V7jG",
        "outputId": "a0280d94-be35-4a83-a912-6694348f727f"
      },
      "source": [
        "sample_data.shape"
      ],
      "execution_count": 48,
      "outputs": [
        {
          "output_type": "execute_result",
          "data": {
            "text/plain": [
              "(500, 15)"
            ]
          },
          "metadata": {
            "tags": []
          },
          "execution_count": 48
        }
      ]
    },
    {
      "cell_type": "code",
      "metadata": {
        "id": "1gecP_PWV7n8"
      },
      "source": [
        "def sample_variance(sample_data):\r\n",
        "    sum = 0\r\n",
        "    # print(sample_data.shape)\r\n",
        "\r\n",
        "    for i in sample_data:\r\n",
        "      sum = sum + i\r\n",
        "    \r\n",
        "    mean = sum / len(sample_data)\r\n",
        "\r\n",
        "    var = 0\r\n",
        "    for i in sample_data:\r\n",
        "      var = var + (i - mean)**2\r\n",
        "    \r\n",
        "    return var / len(sample_data-1)"
      ],
      "execution_count": 56,
      "outputs": []
    },
    {
      "cell_type": "code",
      "metadata": {
        "colab": {
          "base_uri": "https://localhost:8080/"
        },
        "id": "HU9NJyRjV7tW",
        "outputId": "28d70fd7-00e0-40f2-c293-7160ac981335"
      },
      "source": [
        "sample_variance(sample_data.fare)"
      ],
      "execution_count": 57,
      "outputs": [
        {
          "output_type": "execute_result",
          "data": {
            "text/plain": [
              "2232.9217252802905"
            ]
          },
          "metadata": {
            "tags": []
          },
          "execution_count": 57
        }
      ]
    },
    {
      "cell_type": "markdown",
      "metadata": {
        "id": "LpG7Hfs0Yje1"
      },
      "source": [
        "**With Numpy**"
      ]
    },
    {
      "cell_type": "code",
      "metadata": {
        "colab": {
          "base_uri": "https://localhost:8080/"
        },
        "id": "smxCXAS1YiOQ",
        "outputId": "bf29e37c-a29e-4d46-def0-e782b8a8525c"
      },
      "source": [
        "np.var(sample_data.fare)"
      ],
      "execution_count": 58,
      "outputs": [
        {
          "output_type": "execute_result",
          "data": {
            "text/plain": [
              "2232.9217252802905"
            ]
          },
          "metadata": {
            "tags": []
          },
          "execution_count": 58
        }
      ]
    },
    {
      "cell_type": "markdown",
      "metadata": {
        "id": "Kvt1R1OzcC5f"
      },
      "source": [
        "---------"
      ]
    },
    {
      "cell_type": "markdown",
      "metadata": {
        "id": "eKRwFGd_S3ET"
      },
      "source": [
        "### 3.   **Standard deviation**"
      ]
    },
    {
      "cell_type": "markdown",
      "metadata": {
        "id": "5_I8mOvmcX8n"
      },
      "source": [
        "![download (1).png](data:image/png;base64,iVBORw0KGgoAAAANSUhEUgAAAUQAAACbCAMAAAAtKxK6AAABBVBMVEX///+o0I3/2Wb/3GeMjIzT1drJqULMqk2r04+HrnhzlFzl5OYAAADFxcXX19fk5OS3t7f/4Gny8vL5+fn19fXr6+vf39+v2ZOmpqafn5+Ojo7Fx829vb3Ozs6UlJSamprXtEmIrG95eXmCgoJYWFhhYWFubm57e3uurq5cck1MTExCQkI4ODhUVFT/5mxxcXHQsVN6aDHmxFwkJCQdGQzdvFiUfjuKdTdLQB58mmgaIRYvLy/lw1z00GK7n0ttXSw+NRkoIhAvOieZvoEkLR49TDNlfVUYGBg7OzunjkNdTyVXSiM0LBUeHh6khR0TEAhKXD43RC5WdkCfiD9zjmFOYUEVGhEbpJTIAAAWtklEQVR4nO2dC0ObyrbHJ4Z71XOHRxiGAJuBcyAQzMPEV9Wm8RWt1tpje/r4/h/lrgU+okabmLG2+/DfbXYCw7D4zWstYKaElCpV6u8j639KzSErh/jXv/+31LP1778KiP+slnq2/nkDceEVVK0+/XvC5keSTH2KF9Cvglir1aoPr6e69WF4Z8PeYhXTrmLqsWT9D1c/odTf3TukSP+o9dW9vRen+IsgDj9Sulhb7NcQQ84CT1etvaHr1est8DE8XKstwEZKz9er+bZ8c22NFgfWPqzX9uhWdTyThRokp+9us6neHIf/qx18rF2nfCn9Goi1bTpc3Ns6PO9Xt/YWh9Wtd/29YbXa729vDhf6e/3qsL+1tzBc7B/kEDfXtw5otfZur7+wvgf1EHbWhouLW9U+3d6CLbXrTOATIW4vDCEVpF7ov1scwn/9Bcy/v1VdX6ztnNfW9xbXX/LyfhHEN3RvuPqVHu73L84vz1f36cfLjwtf4fNwuH1wTve26ObO8PDwgBYQh7Ut2u9vftzc7tOthcPtbbr6cWeH9rfpwdc9+m4vP3yN7sBBCPENNOdteg4wDzYPFunFDoXEa7WDNTjl6s758OLjxeb9PkCmflVzPqeH/erH7dXh1nD7srp2uACtcnN7dW1zuL41pNvv6Adop+vrh1cQqwt0b39n+IEu0DdbdAsgbr3boh9W6d4qHHixtrqIG/EQaOP08OPaOuz8St/t7NRqgO/8sPbmsrqzvfoBIVah9kIf8HJX94sg1mpbFzvDne1a//DycnO4dgAtE6F83Ry+oZsIsV8DYgsHtzURWvTm4cFw7eObiwWAuA/J3lxBpF9r6znZxQLifr+/TvdqAHZnHyBur+4fAL6Fa4jDHTi2/+dD/PCutvNxYWd/Ye1iYe3yCuLB+cLO4dbmm1oBsU8X+9fNeX2H1vZ3YLQGMgAFulS6t44QPwwB4s7H6ge6fgtxu1aF2lzbvxjehbgD49nqzn4fO4A/H2IVBtyLLahrUIvoAR3uXwDEdeBzfjn8Sunh2hZdrNbO6cUFQMTEdOddbf2AIh44BkZnqIkUIK7RfegT311SaP5rCPFdARE8GUov+wsXBcTzC2jbC5D/PoXReeEAzvnnQwQvJfcT4QO+QGWDqwbH4+o77qvl/iH+LhIXqfFn8XWh2FYkrV59x+2gWvXmDPkB17uu8q9eHfuCV/fPMuybX9cQ/734O6v/2gY8rasbEOIfy7+zPr+2AU/rH6Koif9a+o1VX6m/tglP6l9/XUOsyNTS0uTvz8xtRa5141lLyHleiHXQpCPfLxdbwcal3W/zGjo3xCUwc/Kea0Pnyn0+iPUjcN+A0RIW6NLVJ/wZXV41wNH7ev3kuD6e4DlWzglx6RulR5UxI66/5IZWnmvWTfbzQjypf6eVyu7uMtS40e4ufB0tLS9X3q7U4ddo6TvdHS3vLmEC+MgTPMfKeWsifV/5NqosF/bB580XNLSChs6TuxyIny8/05U6vTyhnyv0W/3zCdhWufx8dDw6op+XT47qJz8+w3X8gATPwjF3TaRflpfq74+/0/ejyx8n9BgMXTqmJ/RkBBCPjk7ezkVxXohf6BFdGdHd+ntaod/hc3QNsb48+kZHuxSa8xdMsPJ29PZ7/fOXZ1k5L8RlIFYZLY+OTkY/VurHX5ZWjivHJ/VvdPntyjLdXb6cq9ueuyZ++Rc0X7pc3wWI79Gqa4ijt2+P6XIBMU9wCQbXV14FYqVe+Ua/faOAcnT5HpsPFOnxdzB6+Xhllx4dH+2+KsQTGEBGdKUCowc9HkG7oN9HPxDiLoWaCBBHlZMj7JOOvmDT+f4qEEfvK7t09+Rk6XgM4tGP0WdoHdiOKvN1ihIgQia7FADWoWVDs/1GL6Em/lipHEPBL8PnLvSJkOBoBBtfqya+pfQ9WvkFehaA+Lm+8qNyhObmNuXGzaH5/cQ8F/QWl8A88Bnxe70CXwoXEv7Cz6Xi+1LlMXftJ1bO3ZxvLFsqjFiqV6A5X9v0PKtuzbuBOHdgVacvFpy9RNhXgWFOUlb1K4jiP//4nXXy2gY8rf8UNyBU//9+Y/Emf20TnpSvFhC1ad8fexV5r23A09L+CIjKaxvwtEqIElRClKASogSVECWohChBJUQJkgqR6bPJnDZjORD5bNbxqTOWClGNfWMWTX1SKRCtxmzWqVPnLBeiLyOXCZIC0Yxl5DJJUiH6QkYuEyQHYiAjl0mSCtGxZeQyQVIgapmMXCbmLBNiqMvIZYKkQBR/BsR4Foi2sKZOKwWib8yQ2BZTuw6yIXKu27aduy46MXXOJvsJyJqHWTp1xlIgZuqtdZyxR63DjaY3g3VyITbNmPq+QaEHD11iU9+kE0vfbzL41HtTZywFoqOF1PD9QRO+uozTjFD3TgKhKApwMJTcumj6nKVC7DHSccCKAP8Qkmp+ODmhClTM6RnKgRjYpAP2iCYR6Ox4qnjMOtjNmtP72nIhRgyqH7ZV1sA2I9r370jHPunk/WbHZD0yvUMkBaLHCaf5Oc8QkN66V4o8bvAI/Qu0PmUamzpnuc0Z/roU7engT/EpL03u5MJhZED0JE+ZCFtR3MfyeSApELGVZqdo0iny4bQY2NzcutzStFmkjAT3PPeVIOK1mp/QwBZ86EpcRDBmLvx2SvwibEhmi22kQMQzmy20A4vYTF3nnnUkuYr0ejNGXjIhcrzWRj70gpksMe3WvZMlpJXl5d+Y7XwyIDJsvWnenCmDXzpv30uhhnEBszdj5CUToo6jMni0tkFSmygxUVt3Qxin4RpFh92ewQsj8iA6UPksF0Y84iZEa9+96Myw0twft1oTM3hcMiEKh4jUMi0lIGLi0Btdj3hXLWlqyYBoNondhYbrwv/TJ/u7Wa2TCzFjZziDGzyw3E24L9a6gjizlTIg8pi0c+vQzVGeaAnuzOHhMyDqQeBN7Hn9l7oTNhNE3QsmRp/6y90enx2i3TK9q9Ra6IJugpIZbmPOqFmun7KscKLvWae/2J2wZ0BUVPBTJ+7JdB4rs2hq6LNADDqTbzToGZnNuun7nGdANMi16yIUz/NuT+bONuTOoBkgMm42Cor3rNNerLN5TnPuit7kKhT/DhD5hkgmmue/WGfzrIFFfeQGdnMyRKY0CUtnHZDvaJbmrInJ1/LzHlsPn1kLZLo4vUe8r5DqJJ3hpshDyRhY3Z9doghbvzHEoOmQxlw5y4AY3otPfF255wpBoPq8rGVCfOReMG/qA9KcK2cZEJU7bUHXqGrcCwis3wHiI3dZNZd0svkeEsmHiB5G7kP6uTuTj+e/BcRHapuj5b3iPJIB8V61g9Czc6/7Ycn0j87uSBJEHhqPXaq5oRKbzpf9nBCZ4T3IIxWE3nVsTf80e15VlATRNjbYI3GVqUEtnDP7OSFyQW12r53YjNh3m4cptFmek45JWnPuhfyR5z4SNHdzdhLrxd7EkQiRU//F3jCQ0CcOshecxiFvYAlOXy44nR+iSl/uJo7M0Zm+1DthUkbnxp8B8QX13/S68YuphChBJUQJKiFKUAlRgkqIElRClKASogSVECWohChBJUQJKiFKUAlRgkqIElRClKASogSVECWohChBJUQJKiFKUAlRgkqIEvRnQ2ST3ix+dNmdO5nwhy+C3T9w6gfVfxBE3vK129l4tpLEgXNrfo8TVsyzbY5fvHJ9gE3MZDxnp3hLexxlLFxRJCX4IhvZuN7BGQmeagu5FVwz+W0iXbM1e+w9bPvmXPF4UY1VAn6nKCa8faxw/fZlO6ab43Pv7acmst2piQnPxt9Pb+gkzOD6irUSujrJQqhMJmsw4GkSMz+lykyez8H+ZIqYm/AlvxTOezbRTdPaALi6mU8w1htMteAovmEyU7dUM9EhFwYIuypTGVZUZumT3hHML9+mLLgtJlulQktvGDFKSJYnA/PGjuxe/eAOMe68e5/mZrLx9yISnk8+1PN0WqzfvEcWE5Y+9b7YHYiiceedpK5Jop4SmrHRsrD+sRZxgzgxu2RAMseO/S5cS4NQFyfeZg3VaLsNqIA4QUONwgFRnJ4i2r7eMD5BBXS8uE029F6mhj2RtXwjEB2/xSKNtLS2oXdIw2hoRls9ewwiiew77+J+gmIOFU6yfFo11OqWpcWGYTfNjPg2CWIbUXMnCHCKadsPlVgQO0ZsuqI0iK84arDhECVwgZ2mKJGVEc/jvZaqOo6qZ4GikpDxLKOh7UMRucT340ld0B2I/gDLDdeTwHfCwWTWZiIMEgXfqDIyqKYdogV2045JpDWaEU6EDHmLYM6GQXqqlXIaQhnjAgAN0SSZrwW4FyqQ2SC8x2O7xfE130iQQDgZaWgJnA/KXPOgoviu4t+28QcQjc4dyyPCN7RQDX2O1a1hZi6cw8t8Vw1IgzV0FVfMyMQZw5kL0Fskoa3oPZLApXa5SPSEdG0/A/NMOJ4NoILYsWNwBvATB2pq5BFKGlhdPLDM96Bldh0+6Q3+cYjCDcfnevgBzqB3/KuJCSJNcAWKWHUMxyBnWpFbIDKDtC3s78iA2VGWvxrG20RVgFFqQ9IuNwcEJ++GcIFgrR3peSXHlQwSgBj5akgcFapkKiJz4iogOUQzymd5G14QhCyfDArFFKsDNygMacH1Qhcda4pGOnoLZ16TiHuCQYOBpmq1sJAU7HtFRHwHDG5YigBQeEojgBxcYbYzSMo6WK2B/SdNIU0tA9J2osOOFtMmveY4BtGmUNZj/QnUCtUDBEGcs7WpSsxOSHlP89M4YWnYM7GnhGEGLy6OobVnrt3Gnok1jI4hknhAnNRqKr0Ia2I20BQROxFLA6tLzBbZiGPDbIenltqATNXEcwF+NulVUYRopezOZECADleX6hSHJehOqE9CA66hxRI7TLRePhZ8Ii2eV5424wkJ1FTDoUaNSUc0baOFPSMlaYDDoEWtnrDJKaSDI3ii4+X4rrZhAu622dB5G+pxMGlK0RhEy8Th4lZgA2PEwlUS8t/Y45swDsB2E3YwHEVgI8tTEhxs8IvFi1+sSIxXyBlusvJDcUeeFI/EjHFznh8xeb5x0jCIEJ0Q/9zKZSTTGfRTcYCHaE2c0uyGxANGMGqH+aw+BTo1G6cGhK5mEMfUY1z5hniuyzVou9DRMSfOcHhqZqHlmG6skcCBI2yDh9AJmjG0J7VphTDQxASyyCa9wV862xJUQpSgEqIElRAl6FGIphKGnnhycZPudXxl3Znrnk8slrsexCMQ7aeDb2uWtf7m0RM1ERwK9ampKaxwi1mb8DvWnrVwybDp17CaQjlECAJugzShbDQD79bfyJLug9si9vWMzQSdnM4My9DNqHGIgKw35uOAkx2kzQDCqgRdfiWC4MMDXx+cRHBT9Yg1SNRM/bhrGAbvxQpJ4nzOe6/BSaKovBcZJI0behDF804TKiDqZMxJg7IjDdW3wBkBDwXdeWIamgYOjcYNk9i+IOidGByXkoG0YcMgPuwQhuC2bcw1/fq+xiGGKoey4yoIz9FmJPWtVOvmcX5LmA1VAf82DMG5bhM/VF0DoyPHh6A2sSFco6YIcO51rDtZag1814EA7wziv5mXPLqvfBEyv+WMOWm4HBnNPF8o/Az8xAicxcSOHPWTOXCzQDu1uzzWXN9HPz9KIdKItUDNFK2pUytV1BmWmPy5xiG28mUPTQ1k5o3BTKB2Bo7G8512CkFSLHo6GeTBc6BCDU0w1GxpKYRzvEc8vNHg+0rEOjyxMVCCACIl6rxzSIo+McEuMIPAHkMvyFNvQLkncXFPwEn9ECM3CDOZj2F+Yqf8U9iE8vczR/Tsnn0axhzqQ4sMLHuGxRt/rnGIVEu822oOQG2IlHwn0CGNvqFHInS0hLVF5mhNcar3eCqwZWusxaHRGkYIhhOSco1qZsNsccNKoe0D4GDeUSaHqLfEeFCqYnCfimLVNAi2Wq5vdXlq2k0C0aVNunbCijsWnlA7GcRx2DM2OAyWDTLn/Ot7Go+dI9Uc63SgIpkagTrp4wRWPzbwVk0G9RGXJDeExgThGQSbWsYgIM0EsTnBq1SJBXvgSNxkaDrPM5lPCNFw76yQBlXMUUlqhj3ssWMP6CRRQjrEd0lPb0WpAJqphwuv9kx9gGFhw4uJ0utlmkJiqS7dGETnqQH1JvZXX+Pfi5rVT2Sdn6eRqL+ns81fbq7mJP09If5izQKRTUxkP3S5uH/dCU545Pcc/UEQ9ZZB3FsHSihJ7OXj4RUJ7A55S7+31lH08KlqhANMpkQqCR+JvCyOg9TUug/RFvfWYVLhPBYYwu885lIelm/omflCBbh2+aOn4zMOhHdqYishxnhvgqtzwCBtAzhumwSjLHXgkthGQ/KHeDazuiYw5hg14K1kCyqmisdlAT5pSXEBCHz+B9kwEysth9ppsiBg4H3iDhMr68/+AZkHEP22mnuH7CoWwnFPpTZpjqO1ug8ysjH201LVAUf3kUbiayR8nO9EjUM03S4Pxy4H3ETSM1LVaKl64pxxdFzdLM0fGGuR/SnrBEpg0qylq4Gj2BSCKohq2jyINFzIGFcrHziR7weeGWY91WmpZ0REWs855e1MT0w3VBxOnbal/GxtgRyi4TRvrhvDYlXxWLDhEk9xLWwOIYTWCSS1DTNTMtG0eSuEkgwUW3fz5aEVx0rRSxpYuBhTO2syrrjEVgKmugF4xRnzFMceRDo4cnFscscLiBZPMUaNQzREFqK5GBRgOxYxLs2uxhrE1DZJ8iWyGywWCRngsz+XfGLCA1/ayQZKT2QYlig+cX1cUAoLwEr4APoAp0l0GqYcWnePR3aqQ9DYZWZitYndExFJzORndyvyZyxt9TbyER6uDhRmwoFKyLqFaXrK0VHMMr9FqCo80SFd8LH9OMPdYF/bxFcNwGKIxTjlmZPqQJo07DSEehGKWIDBDWZCTEN8RW1DZu1pFlIZhxhDXDJ+qwCCOIASqIoGp7B7uaUtInqe5pE2RKbww1VdQdr54tm5/wqEOqzB89WgIebR3PxeUDsPEFITXNEeXKdominRI4i8jTAUYDAJfrIKFkKEgAOXVMowtCSxin8cw9OgyuvN3LQ2UeCMHsSa+OSRZH4gSMPvullhGvjk3dw0w8WaDJGrk9kD4fYgGfQ/EGJBwduK2YP8wF7Vg+2fSNaZ4lbFGEQOfUp3vDeArlB0XYiiYjN1zgIofaKnxDpVeTsc8IYJNbXF054XMkhl4X0U4kRxBvE0fOtmikeCdpbyOAzsduZh1OVTkyThILPORJaZZ1kDAkWrJYKftRmEqCKe6w1dHSGe4UsalAAGKHseEXEK2WobJkSeMZRnopltkRKb5aY1uN7NTbPbuGZ5GJKBbekJDH0aloHbFmBhy1ABrg9xB9RrnTW0p0OQhxCZlT+uuxX+yJ/04TjCiudwxbO9/Glf8SyQWbCXmRYpxkVIf/VoFo9kjOdPEa8e9RWH4+M9y8q/XeVn/mx5KYTo22P/uK4Lp27GMMQr0P8ZNq7oqPnE8rgV+ZnlEqGSgLtQAYirOMVx+LjOzk3zFRi2DTfWrMDjpKkI6ASJAFhu4OhmrBo2wbsaDoF8p1rbX76zrfWk3qvLJclP5NOvYjuT/qsiFv5CV/lfBfGlVEKUoBKiBJUQJaiEKEElRAkqIUpQCVGCSogSVEKUoBKiBJUQJaiEKEElRAkqIUpQCVGCSogSVEKUoBKiBJUQJega4iP/itxvotd4sXQG2QVELfJm+icqf6289He2TvGi37sdlypVajb9P3CpEqq/gpBnAAAAAElFTkSuQmCC)"
      ]
    },
    {
      "cell_type": "markdown",
      "metadata": {
        "id": "oGNvnBzScuP3"
      },
      "source": [
        "- **Standard deviation is just a square root of variance**"
      ]
    },
    {
      "cell_type": "markdown",
      "metadata": {
        "id": "H13HInuPdLDZ"
      },
      "source": [
        "**Population Standard deviation**"
      ]
    },
    {
      "cell_type": "code",
      "metadata": {
        "colab": {
          "base_uri": "https://localhost:8080/",
          "height": 202
        },
        "id": "Je2Y2EybdZfv",
        "outputId": "8146698a-ea6e-4a5e-834e-6e0542bf36f8"
      },
      "source": [
        "data.head().select_dtypes(exclude=[\"O\",bool])"
      ],
      "execution_count": 60,
      "outputs": [
        {
          "output_type": "execute_result",
          "data": {
            "text/html": [
              "<div>\n",
              "<style scoped>\n",
              "    .dataframe tbody tr th:only-of-type {\n",
              "        vertical-align: middle;\n",
              "    }\n",
              "\n",
              "    .dataframe tbody tr th {\n",
              "        vertical-align: top;\n",
              "    }\n",
              "\n",
              "    .dataframe thead th {\n",
              "        text-align: right;\n",
              "    }\n",
              "</style>\n",
              "<table border=\"1\" class=\"dataframe\">\n",
              "  <thead>\n",
              "    <tr style=\"text-align: right;\">\n",
              "      <th></th>\n",
              "      <th>survived</th>\n",
              "      <th>pclass</th>\n",
              "      <th>age</th>\n",
              "      <th>sibsp</th>\n",
              "      <th>parch</th>\n",
              "      <th>fare</th>\n",
              "      <th>class</th>\n",
              "      <th>deck</th>\n",
              "    </tr>\n",
              "  </thead>\n",
              "  <tbody>\n",
              "    <tr>\n",
              "      <th>0</th>\n",
              "      <td>0</td>\n",
              "      <td>3</td>\n",
              "      <td>22.0</td>\n",
              "      <td>1</td>\n",
              "      <td>0</td>\n",
              "      <td>7.2500</td>\n",
              "      <td>Third</td>\n",
              "      <td>NaN</td>\n",
              "    </tr>\n",
              "    <tr>\n",
              "      <th>1</th>\n",
              "      <td>1</td>\n",
              "      <td>1</td>\n",
              "      <td>38.0</td>\n",
              "      <td>1</td>\n",
              "      <td>0</td>\n",
              "      <td>71.2833</td>\n",
              "      <td>First</td>\n",
              "      <td>C</td>\n",
              "    </tr>\n",
              "    <tr>\n",
              "      <th>2</th>\n",
              "      <td>1</td>\n",
              "      <td>3</td>\n",
              "      <td>26.0</td>\n",
              "      <td>0</td>\n",
              "      <td>0</td>\n",
              "      <td>7.9250</td>\n",
              "      <td>Third</td>\n",
              "      <td>NaN</td>\n",
              "    </tr>\n",
              "    <tr>\n",
              "      <th>3</th>\n",
              "      <td>1</td>\n",
              "      <td>1</td>\n",
              "      <td>35.0</td>\n",
              "      <td>1</td>\n",
              "      <td>0</td>\n",
              "      <td>53.1000</td>\n",
              "      <td>First</td>\n",
              "      <td>C</td>\n",
              "    </tr>\n",
              "    <tr>\n",
              "      <th>4</th>\n",
              "      <td>0</td>\n",
              "      <td>3</td>\n",
              "      <td>35.0</td>\n",
              "      <td>0</td>\n",
              "      <td>0</td>\n",
              "      <td>8.0500</td>\n",
              "      <td>Third</td>\n",
              "      <td>NaN</td>\n",
              "    </tr>\n",
              "  </tbody>\n",
              "</table>\n",
              "</div>"
            ],
            "text/plain": [
              "   survived  pclass   age  sibsp  parch     fare  class deck\n",
              "0         0       3  22.0      1      0   7.2500  Third  NaN\n",
              "1         1       1  38.0      1      0  71.2833  First    C\n",
              "2         1       3  26.0      0      0   7.9250  Third  NaN\n",
              "3         1       1  35.0      1      0  53.1000  First    C\n",
              "4         0       3  35.0      0      0   8.0500  Third  NaN"
            ]
          },
          "metadata": {
            "tags": []
          },
          "execution_count": 60
        }
      ]
    },
    {
      "cell_type": "code",
      "metadata": {
        "id": "xY5D0FC1cBEJ"
      },
      "source": [
        "pop_var = population_variance(data.fare)"
      ],
      "execution_count": 61,
      "outputs": []
    },
    {
      "cell_type": "code",
      "metadata": {
        "id": "fQK0td53S2OM"
      },
      "source": [
        "pop_std = np.sqrt(pop_var)"
      ],
      "execution_count": 62,
      "outputs": []
    },
    {
      "cell_type": "code",
      "metadata": {
        "colab": {
          "base_uri": "https://localhost:8080/"
        },
        "id": "pI8_cFcIdXrY",
        "outputId": "5a8b4901-21e5-4087-fae5-945509b52eb5"
      },
      "source": [
        "print(pop_std)"
      ],
      "execution_count": 63,
      "outputs": [
        {
          "output_type": "stream",
          "text": [
            "49.66553444477411\n"
          ],
          "name": "stdout"
        }
      ]
    },
    {
      "cell_type": "markdown",
      "metadata": {
        "id": "MIQncIRPeCl0"
      },
      "source": [
        "**With NumPy**"
      ]
    },
    {
      "cell_type": "code",
      "metadata": {
        "colab": {
          "base_uri": "https://localhost:8080/"
        },
        "id": "ciaz935gd5Oy",
        "outputId": "d046e507-e22b-42c0-e782-0ff14a92612b"
      },
      "source": [
        "np.std(data.fare)"
      ],
      "execution_count": 64,
      "outputs": [
        {
          "output_type": "execute_result",
          "data": {
            "text/plain": [
              "49.66553444477411"
            ]
          },
          "metadata": {
            "tags": []
          },
          "execution_count": 64
        }
      ]
    },
    {
      "cell_type": "markdown",
      "metadata": {
        "id": "u_01sifoeHrv"
      },
      "source": [
        "--------"
      ]
    },
    {
      "cell_type": "markdown",
      "metadata": {
        "id": "jS67bd2neNXi"
      },
      "source": [
        "**Sample Standard deviation**"
      ]
    },
    {
      "cell_type": "code",
      "metadata": {
        "colab": {
          "base_uri": "https://localhost:8080/",
          "height": 202
        },
        "id": "VMFm5EBAd_iV",
        "outputId": "d1c16d3d-190c-4859-aed1-da931796d4dd"
      },
      "source": [
        "sample_data.head().select_dtypes(exclude=[bool,'O'])"
      ],
      "execution_count": 66,
      "outputs": [
        {
          "output_type": "execute_result",
          "data": {
            "text/html": [
              "<div>\n",
              "<style scoped>\n",
              "    .dataframe tbody tr th:only-of-type {\n",
              "        vertical-align: middle;\n",
              "    }\n",
              "\n",
              "    .dataframe tbody tr th {\n",
              "        vertical-align: top;\n",
              "    }\n",
              "\n",
              "    .dataframe thead th {\n",
              "        text-align: right;\n",
              "    }\n",
              "</style>\n",
              "<table border=\"1\" class=\"dataframe\">\n",
              "  <thead>\n",
              "    <tr style=\"text-align: right;\">\n",
              "      <th></th>\n",
              "      <th>survived</th>\n",
              "      <th>pclass</th>\n",
              "      <th>age</th>\n",
              "      <th>sibsp</th>\n",
              "      <th>parch</th>\n",
              "      <th>fare</th>\n",
              "      <th>class</th>\n",
              "      <th>deck</th>\n",
              "    </tr>\n",
              "  </thead>\n",
              "  <tbody>\n",
              "    <tr>\n",
              "      <th>100</th>\n",
              "      <td>0</td>\n",
              "      <td>3</td>\n",
              "      <td>28.0</td>\n",
              "      <td>0</td>\n",
              "      <td>0</td>\n",
              "      <td>7.8958</td>\n",
              "      <td>Third</td>\n",
              "      <td>NaN</td>\n",
              "    </tr>\n",
              "    <tr>\n",
              "      <th>101</th>\n",
              "      <td>0</td>\n",
              "      <td>3</td>\n",
              "      <td>NaN</td>\n",
              "      <td>0</td>\n",
              "      <td>0</td>\n",
              "      <td>7.8958</td>\n",
              "      <td>Third</td>\n",
              "      <td>NaN</td>\n",
              "    </tr>\n",
              "    <tr>\n",
              "      <th>102</th>\n",
              "      <td>0</td>\n",
              "      <td>1</td>\n",
              "      <td>21.0</td>\n",
              "      <td>0</td>\n",
              "      <td>1</td>\n",
              "      <td>77.2875</td>\n",
              "      <td>First</td>\n",
              "      <td>D</td>\n",
              "    </tr>\n",
              "    <tr>\n",
              "      <th>103</th>\n",
              "      <td>0</td>\n",
              "      <td>3</td>\n",
              "      <td>33.0</td>\n",
              "      <td>0</td>\n",
              "      <td>0</td>\n",
              "      <td>8.6542</td>\n",
              "      <td>Third</td>\n",
              "      <td>NaN</td>\n",
              "    </tr>\n",
              "    <tr>\n",
              "      <th>104</th>\n",
              "      <td>0</td>\n",
              "      <td>3</td>\n",
              "      <td>37.0</td>\n",
              "      <td>2</td>\n",
              "      <td>0</td>\n",
              "      <td>7.9250</td>\n",
              "      <td>Third</td>\n",
              "      <td>NaN</td>\n",
              "    </tr>\n",
              "  </tbody>\n",
              "</table>\n",
              "</div>"
            ],
            "text/plain": [
              "     survived  pclass   age  sibsp  parch     fare  class deck\n",
              "100         0       3  28.0      0      0   7.8958  Third  NaN\n",
              "101         0       3   NaN      0      0   7.8958  Third  NaN\n",
              "102         0       1  21.0      0      1  77.2875  First    D\n",
              "103         0       3  33.0      0      0   8.6542  Third  NaN\n",
              "104         0       3  37.0      2      0   7.9250  Third  NaN"
            ]
          },
          "metadata": {
            "tags": []
          },
          "execution_count": 66
        }
      ]
    },
    {
      "cell_type": "code",
      "metadata": {
        "id": "YK1FzOl7eZva"
      },
      "source": [
        "sam_var = sample_variance(sample_data.fare)"
      ],
      "execution_count": 67,
      "outputs": []
    },
    {
      "cell_type": "code",
      "metadata": {
        "colab": {
          "base_uri": "https://localhost:8080/"
        },
        "id": "vUEiCZtuena6",
        "outputId": "729cbbab-484f-4528-fa16-47bf10c04ced"
      },
      "source": [
        "sam_std = np.sqrt(sam_var)\r\n",
        "\r\n",
        "print(f\"Sample standard deviation is: {sam_std}\")"
      ],
      "execution_count": 71,
      "outputs": [
        {
          "output_type": "stream",
          "text": [
            "Sample standard deviation is: 47.25380117281879\n"
          ],
          "name": "stdout"
        }
      ]
    },
    {
      "cell_type": "markdown",
      "metadata": {
        "id": "GJUQFjVwfWwp"
      },
      "source": [
        "**With NumPy**"
      ]
    },
    {
      "cell_type": "code",
      "metadata": {
        "colab": {
          "base_uri": "https://localhost:8080/"
        },
        "id": "I-DMyaWcerOH",
        "outputId": "205cec6a-8776-4153-d4e1-55f514ff097e"
      },
      "source": [
        "print(f\"Sample standard deviation with NumPy is: {np.std(sample_data.fare)}\")"
      ],
      "execution_count": 72,
      "outputs": [
        {
          "output_type": "stream",
          "text": [
            "Sample standard deviation with NumPy is: 47.25380117281879\n"
          ],
          "name": "stdout"
        }
      ]
    },
    {
      "cell_type": "code",
      "metadata": {
        "id": "AVJSu93Vevxr"
      },
      "source": [
        ""
      ],
      "execution_count": null,
      "outputs": []
    }
  ]
}