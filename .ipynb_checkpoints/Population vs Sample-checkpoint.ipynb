{
 "cells": [
  {
   "cell_type": "markdown",
   "metadata": {},
   "source": [
    "### Topics covered"
   ]
  },
  {
   "cell_type": "markdown",
   "metadata": {
    "id": "HH-NlY9ROwfF"
   },
   "source": [
    "-  **Population vs Sample**\n",
    "- **Population mean vs Sample mean**"
   ]
  },
  {
   "cell_type": "markdown",
   "metadata": {},
   "source": [
    "##### importing required libraries"
   ]
  },
  {
   "cell_type": "code",
   "execution_count": 1,
   "metadata": {
    "id": "NSPrOZeFOmIo"
   },
   "outputs": [],
   "source": [
    "import numpy as np\n",
    "import pandas as pd"
   ]
  },
  {
   "cell_type": "markdown",
   "metadata": {},
   "source": [
    "------"
   ]
  },
  {
   "cell_type": "markdown",
   "metadata": {
    "id": "htuFkd8tSQdF"
   },
   "source": [
    "**Suppose we want to find average weight of person in a collage, And lets consider collage has 26 persons**"
   ]
  },
  {
   "cell_type": "markdown",
   "metadata": {},
   "source": [
    "**Generate dummy data**"
   ]
  },
  {
   "cell_type": "code",
   "execution_count": 24,
   "metadata": {
    "colab": {
     "base_uri": "https://localhost:8080/",
     "height": 846
    },
    "id": "ZDWEEPSCPEjP",
    "outputId": "a97ab609-6889-4b56-fd84-2a3dadac5d4d"
   },
   "outputs": [
    {
     "data": {
      "text/html": [
       "<div>\n",
       "<style scoped>\n",
       "    .dataframe tbody tr th:only-of-type {\n",
       "        vertical-align: middle;\n",
       "    }\n",
       "\n",
       "    .dataframe tbody tr th {\n",
       "        vertical-align: top;\n",
       "    }\n",
       "\n",
       "    .dataframe thead th {\n",
       "        text-align: right;\n",
       "    }\n",
       "</style>\n",
       "<table border=\"1\" class=\"dataframe\">\n",
       "  <thead>\n",
       "    <tr style=\"text-align: right;\">\n",
       "      <th></th>\n",
       "      <th>Name</th>\n",
       "      <th>Age</th>\n",
       "      <th>Weight</th>\n",
       "    </tr>\n",
       "  </thead>\n",
       "  <tbody>\n",
       "    <tr>\n",
       "      <th>0</th>\n",
       "      <td>A</td>\n",
       "      <td>17</td>\n",
       "      <td>19.525582</td>\n",
       "    </tr>\n",
       "    <tr>\n",
       "      <th>1</th>\n",
       "      <td>B</td>\n",
       "      <td>11</td>\n",
       "      <td>13.766621</td>\n",
       "    </tr>\n",
       "    <tr>\n",
       "      <th>2</th>\n",
       "      <td>C</td>\n",
       "      <td>22</td>\n",
       "      <td>75.291674</td>\n",
       "    </tr>\n",
       "    <tr>\n",
       "      <th>3</th>\n",
       "      <td>D</td>\n",
       "      <td>11</td>\n",
       "      <td>98.278970</td>\n",
       "    </tr>\n",
       "    <tr>\n",
       "      <th>4</th>\n",
       "      <td>E</td>\n",
       "      <td>17</td>\n",
       "      <td>65.712439</td>\n",
       "    </tr>\n",
       "    <tr>\n",
       "      <th>5</th>\n",
       "      <td>F</td>\n",
       "      <td>9</td>\n",
       "      <td>74.508554</td>\n",
       "    </tr>\n",
       "    <tr>\n",
       "      <th>6</th>\n",
       "      <td>G</td>\n",
       "      <td>11</td>\n",
       "      <td>31.245737</td>\n",
       "    </tr>\n",
       "    <tr>\n",
       "      <th>7</th>\n",
       "      <td>H</td>\n",
       "      <td>4</td>\n",
       "      <td>12.340943</td>\n",
       "    </tr>\n",
       "    <tr>\n",
       "      <th>8</th>\n",
       "      <td>I</td>\n",
       "      <td>13</td>\n",
       "      <td>91.465581</td>\n",
       "    </tr>\n",
       "    <tr>\n",
       "      <th>9</th>\n",
       "      <td>J</td>\n",
       "      <td>17</td>\n",
       "      <td>13.389837</td>\n",
       "    </tr>\n",
       "    <tr>\n",
       "      <th>10</th>\n",
       "      <td>K</td>\n",
       "      <td>10</td>\n",
       "      <td>92.645602</td>\n",
       "    </tr>\n",
       "    <tr>\n",
       "      <th>11</th>\n",
       "      <td>L</td>\n",
       "      <td>22</td>\n",
       "      <td>84.810978</td>\n",
       "    </tr>\n",
       "    <tr>\n",
       "      <th>12</th>\n",
       "      <td>M</td>\n",
       "      <td>11</td>\n",
       "      <td>48.234112</td>\n",
       "    </tr>\n",
       "    <tr>\n",
       "      <th>13</th>\n",
       "      <td>N</td>\n",
       "      <td>11</td>\n",
       "      <td>96.223997</td>\n",
       "    </tr>\n",
       "    <tr>\n",
       "      <th>14</th>\n",
       "      <td>O</td>\n",
       "      <td>10</td>\n",
       "      <td>1.199960</td>\n",
       "    </tr>\n",
       "    <tr>\n",
       "      <th>15</th>\n",
       "      <td>P</td>\n",
       "      <td>1</td>\n",
       "      <td>22.511575</td>\n",
       "    </tr>\n",
       "    <tr>\n",
       "      <th>16</th>\n",
       "      <td>Q</td>\n",
       "      <td>14</td>\n",
       "      <td>85.060389</td>\n",
       "    </tr>\n",
       "    <tr>\n",
       "      <th>17</th>\n",
       "      <td>R</td>\n",
       "      <td>2</td>\n",
       "      <td>72.526029</td>\n",
       "    </tr>\n",
       "    <tr>\n",
       "      <th>18</th>\n",
       "      <td>S</td>\n",
       "      <td>26</td>\n",
       "      <td>20.604041</td>\n",
       "    </tr>\n",
       "    <tr>\n",
       "      <th>19</th>\n",
       "      <td>T</td>\n",
       "      <td>12</td>\n",
       "      <td>1.191967</td>\n",
       "    </tr>\n",
       "    <tr>\n",
       "      <th>20</th>\n",
       "      <td>U</td>\n",
       "      <td>10</td>\n",
       "      <td>79.504649</td>\n",
       "    </tr>\n",
       "    <tr>\n",
       "      <th>21</th>\n",
       "      <td>V</td>\n",
       "      <td>28</td>\n",
       "      <td>8.234402</td>\n",
       "    </tr>\n",
       "    <tr>\n",
       "      <th>22</th>\n",
       "      <td>W</td>\n",
       "      <td>8</td>\n",
       "      <td>38.118976</td>\n",
       "    </tr>\n",
       "    <tr>\n",
       "      <th>23</th>\n",
       "      <td>X</td>\n",
       "      <td>13</td>\n",
       "      <td>76.472622</td>\n",
       "    </tr>\n",
       "    <tr>\n",
       "      <th>24</th>\n",
       "      <td>Y</td>\n",
       "      <td>27</td>\n",
       "      <td>33.515332</td>\n",
       "    </tr>\n",
       "    <tr>\n",
       "      <th>25</th>\n",
       "      <td>Z</td>\n",
       "      <td>17</td>\n",
       "      <td>14.696780</td>\n",
       "    </tr>\n",
       "  </tbody>\n",
       "</table>\n",
       "</div>"
      ],
      "text/plain": [
       "   Name  Age     Weight\n",
       "0     A   17  19.525582\n",
       "1     B   11  13.766621\n",
       "2     C   22  75.291674\n",
       "3     D   11  98.278970\n",
       "4     E   17  65.712439\n",
       "5     F    9  74.508554\n",
       "6     G   11  31.245737\n",
       "7     H    4  12.340943\n",
       "8     I   13  91.465581\n",
       "9     J   17  13.389837\n",
       "10    K   10  92.645602\n",
       "11    L   22  84.810978\n",
       "12    M   11  48.234112\n",
       "13    N   11  96.223997\n",
       "14    O   10   1.199960\n",
       "15    P    1  22.511575\n",
       "16    Q   14  85.060389\n",
       "17    R    2  72.526029\n",
       "18    S   26  20.604041\n",
       "19    T   12   1.191967\n",
       "20    U   10  79.504649\n",
       "21    V   28   8.234402\n",
       "22    W    8  38.118976\n",
       "23    X   13  76.472622\n",
       "24    Y   27  33.515332\n",
       "25    Z   17  14.696780"
      ]
     },
     "metadata": {
      "tags": []
     },
     "output_type": "display_data"
    }
   ],
   "source": [
    "data = pd.DataFrame({\"Name\": [chr(i) for i in range(65,91)],\n",
    "                     \"Age\": [i for i in np.random.randint(1,30,26)],\n",
    "                     'Weight': [(i)*100 for i in np.random.random(size=26)]\n",
    "                     })\n",
    "display(data)"
   ]
  },
  {
   "cell_type": "markdown",
   "metadata": {
    "id": "KdEulFGLTkf7"
   },
   "source": [
    "Population is weight of all person in a collage (whole data), denoted by \n",
    "**N**\n",
    "\n",
    "\n",
    "\n",
    "---\n",
    "\n",
    "\n",
    "\n",
    "Sample is subset of population(randomly selected few person out of whole), denoted by **n**"
   ]
  },
  {
   "cell_type": "markdown",
   "metadata": {
    "id": "BLsn8FllUh3n"
   },
   "source": [
    "**Sample from above data is:**"
   ]
  },
  {
   "cell_type": "code",
   "execution_count": 29,
   "metadata": {
    "id": "G0UUQSXFUtw-"
   },
   "outputs": [],
   "source": [
    "sample_quantity = np.random.randint(5,20)"
   ]
  },
  {
   "cell_type": "code",
   "execution_count": 34,
   "metadata": {
    "id": "daDbllf4Ti7u"
   },
   "outputs": [],
   "source": [
    "sample_data = data.sample(frac=1).iloc[:sample_quantity , :]"
   ]
  },
  {
   "cell_type": "code",
   "execution_count": 36,
   "metadata": {
    "colab": {
     "base_uri": "https://localhost:8080/",
     "height": 417
    },
    "id": "I3YaRxulVmBW",
    "outputId": "ac101593-af6d-4117-9d74-0c78bad78d52"
   },
   "outputs": [
    {
     "data": {
      "text/html": [
       "<div>\n",
       "<style scoped>\n",
       "    .dataframe tbody tr th:only-of-type {\n",
       "        vertical-align: middle;\n",
       "    }\n",
       "\n",
       "    .dataframe tbody tr th {\n",
       "        vertical-align: top;\n",
       "    }\n",
       "\n",
       "    .dataframe thead th {\n",
       "        text-align: right;\n",
       "    }\n",
       "</style>\n",
       "<table border=\"1\" class=\"dataframe\">\n",
       "  <thead>\n",
       "    <tr style=\"text-align: right;\">\n",
       "      <th></th>\n",
       "      <th>Name</th>\n",
       "      <th>Age</th>\n",
       "      <th>Weight</th>\n",
       "    </tr>\n",
       "  </thead>\n",
       "  <tbody>\n",
       "    <tr>\n",
       "      <th>15</th>\n",
       "      <td>P</td>\n",
       "      <td>1</td>\n",
       "      <td>22.511575</td>\n",
       "    </tr>\n",
       "    <tr>\n",
       "      <th>14</th>\n",
       "      <td>O</td>\n",
       "      <td>10</td>\n",
       "      <td>1.199960</td>\n",
       "    </tr>\n",
       "    <tr>\n",
       "      <th>23</th>\n",
       "      <td>X</td>\n",
       "      <td>13</td>\n",
       "      <td>76.472622</td>\n",
       "    </tr>\n",
       "    <tr>\n",
       "      <th>13</th>\n",
       "      <td>N</td>\n",
       "      <td>11</td>\n",
       "      <td>96.223997</td>\n",
       "    </tr>\n",
       "    <tr>\n",
       "      <th>18</th>\n",
       "      <td>S</td>\n",
       "      <td>26</td>\n",
       "      <td>20.604041</td>\n",
       "    </tr>\n",
       "    <tr>\n",
       "      <th>22</th>\n",
       "      <td>W</td>\n",
       "      <td>8</td>\n",
       "      <td>38.118976</td>\n",
       "    </tr>\n",
       "    <tr>\n",
       "      <th>20</th>\n",
       "      <td>U</td>\n",
       "      <td>10</td>\n",
       "      <td>79.504649</td>\n",
       "    </tr>\n",
       "    <tr>\n",
       "      <th>3</th>\n",
       "      <td>D</td>\n",
       "      <td>11</td>\n",
       "      <td>98.278970</td>\n",
       "    </tr>\n",
       "    <tr>\n",
       "      <th>25</th>\n",
       "      <td>Z</td>\n",
       "      <td>17</td>\n",
       "      <td>14.696780</td>\n",
       "    </tr>\n",
       "    <tr>\n",
       "      <th>1</th>\n",
       "      <td>B</td>\n",
       "      <td>11</td>\n",
       "      <td>13.766621</td>\n",
       "    </tr>\n",
       "    <tr>\n",
       "      <th>24</th>\n",
       "      <td>Y</td>\n",
       "      <td>27</td>\n",
       "      <td>33.515332</td>\n",
       "    </tr>\n",
       "    <tr>\n",
       "      <th>11</th>\n",
       "      <td>L</td>\n",
       "      <td>22</td>\n",
       "      <td>84.810978</td>\n",
       "    </tr>\n",
       "  </tbody>\n",
       "</table>\n",
       "</div>"
      ],
      "text/plain": [
       "   Name  Age     Weight\n",
       "15    P    1  22.511575\n",
       "14    O   10   1.199960\n",
       "23    X   13  76.472622\n",
       "13    N   11  96.223997\n",
       "18    S   26  20.604041\n",
       "22    W    8  38.118976\n",
       "20    U   10  79.504649\n",
       "3     D   11  98.278970\n",
       "25    Z   17  14.696780\n",
       "1     B   11  13.766621\n",
       "24    Y   27  33.515332\n",
       "11    L   22  84.810978"
      ]
     },
     "execution_count": 36,
     "metadata": {
      "tags": []
     },
     "output_type": "execute_result"
    }
   ],
   "source": [
    "sample_data       # random sample data"
   ]
  },
  {
   "cell_type": "markdown",
   "metadata": {
    "id": "GoWXfTg5V3he"
   },
   "source": [
    "#### **Population mean vs Sample mean**"
   ]
  },
  {
   "cell_type": "markdown",
   "metadata": {
    "id": "puZ9ZrpaWA_s"
   },
   "source": [
    "![population-mean.png](data:image/png;base64,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)"
   ]
  },
  {
   "cell_type": "markdown",
   "metadata": {
    "id": "oj-3G4IyXFSx"
   },
   "source": [
    "**Population mean of above data is**"
   ]
  },
  {
   "cell_type": "code",
   "execution_count": 38,
   "metadata": {
    "colab": {
     "base_uri": "https://localhost:8080/",
     "height": 202
    },
    "id": "S0d7jxvwVpR8",
    "outputId": "af0cb7af-5c9b-4edb-aba5-8e01b8b6091d"
   },
   "outputs": [
    {
     "data": {
      "text/html": [
       "<div>\n",
       "<style scoped>\n",
       "    .dataframe tbody tr th:only-of-type {\n",
       "        vertical-align: middle;\n",
       "    }\n",
       "\n",
       "    .dataframe tbody tr th {\n",
       "        vertical-align: top;\n",
       "    }\n",
       "\n",
       "    .dataframe thead th {\n",
       "        text-align: right;\n",
       "    }\n",
       "</style>\n",
       "<table border=\"1\" class=\"dataframe\">\n",
       "  <thead>\n",
       "    <tr style=\"text-align: right;\">\n",
       "      <th></th>\n",
       "      <th>Name</th>\n",
       "      <th>Age</th>\n",
       "      <th>Weight</th>\n",
       "    </tr>\n",
       "  </thead>\n",
       "  <tbody>\n",
       "    <tr>\n",
       "      <th>0</th>\n",
       "      <td>A</td>\n",
       "      <td>17</td>\n",
       "      <td>19.525582</td>\n",
       "    </tr>\n",
       "    <tr>\n",
       "      <th>1</th>\n",
       "      <td>B</td>\n",
       "      <td>11</td>\n",
       "      <td>13.766621</td>\n",
       "    </tr>\n",
       "    <tr>\n",
       "      <th>2</th>\n",
       "      <td>C</td>\n",
       "      <td>22</td>\n",
       "      <td>75.291674</td>\n",
       "    </tr>\n",
       "    <tr>\n",
       "      <th>3</th>\n",
       "      <td>D</td>\n",
       "      <td>11</td>\n",
       "      <td>98.278970</td>\n",
       "    </tr>\n",
       "    <tr>\n",
       "      <th>4</th>\n",
       "      <td>E</td>\n",
       "      <td>17</td>\n",
       "      <td>65.712439</td>\n",
       "    </tr>\n",
       "  </tbody>\n",
       "</table>\n",
       "</div>"
      ],
      "text/plain": [
       "  Name  Age     Weight\n",
       "0    A   17  19.525582\n",
       "1    B   11  13.766621\n",
       "2    C   22  75.291674\n",
       "3    D   11  98.278970\n",
       "4    E   17  65.712439"
      ]
     },
     "execution_count": 38,
     "metadata": {
      "tags": []
     },
     "output_type": "execute_result"
    }
   ],
   "source": [
    "data.head()"
   ]
  },
  {
   "cell_type": "markdown",
   "metadata": {
    "id": "9PFD3QAwbKu1"
   },
   "source": [
    "**Using loop :**"
   ]
  },
  {
   "cell_type": "code",
   "execution_count": 54,
   "metadata": {
    "colab": {
     "base_uri": "https://localhost:8080/"
    },
    "id": "347YLEc9ZEt8",
    "outputId": "6bb7ad80-5de8-48a6-ad9c-5dc49fcd8992"
   },
   "outputs": [
    {
     "data": {
      "text/plain": [
       "1271.0773496713048"
      ]
     },
     "execution_count": 54,
     "metadata": {
      "tags": []
     },
     "output_type": "execute_result"
    }
   ],
   "source": [
    "sum = 0\n",
    "\n",
    "for i in range(0, data.shape[0]):\n",
    "  sum = sum + data.Weight[i]\n",
    "\n",
    "sum"
   ]
  },
  {
   "cell_type": "code",
   "execution_count": 56,
   "metadata": {
    "colab": {
     "base_uri": "https://localhost:8080/"
    },
    "id": "ws5UI8p1ZETB",
    "outputId": "40f6705d-e217-4132-8f51-09c53b037e47"
   },
   "outputs": [
    {
     "data": {
      "text/plain": [
       "48.88759037197326"
      ]
     },
     "execution_count": 56,
     "metadata": {
      "tags": []
     },
     "output_type": "execute_result"
    }
   ],
   "source": [
    "sum / data.shape[0]       # Average weight of all person in collage (POPULATION MEAN)"
   ]
  },
  {
   "cell_type": "markdown",
   "metadata": {
    "id": "R8Uvf2XOamlr"
   },
   "source": [
    "**Without loop (Using numpy array) :**"
   ]
  },
  {
   "cell_type": "code",
   "execution_count": 57,
   "metadata": {
    "colab": {
     "base_uri": "https://localhost:8080/"
    },
    "id": "nZw8KqdFXXlT",
    "outputId": "82729738-32b9-486a-e973-e53ed624469e"
   },
   "outputs": [
    {
     "data": {
      "text/plain": [
       "48.88759037197326"
      ]
     },
     "execution_count": 57,
     "metadata": {
      "tags": []
     },
     "output_type": "execute_result"
    }
   ],
   "source": [
    "np.mean(data.Weight)      # Average weight of all person in collage (POPULATION MEAN)"
   ]
  },
  {
   "cell_type": "markdown",
   "metadata": {
    "id": "rlX_DvGXYRaX"
   },
   "source": [
    "**Sample Mean of above data**"
   ]
  },
  {
   "cell_type": "code",
   "execution_count": 79,
   "metadata": {
    "colab": {
     "base_uri": "https://localhost:8080/",
     "height": 202
    },
    "id": "we6Nd1FWeooU",
    "outputId": "3460a79e-083d-4371-e70f-43cfb4370172"
   },
   "outputs": [
    {
     "data": {
      "text/html": [
       "<div>\n",
       "<style scoped>\n",
       "    .dataframe tbody tr th:only-of-type {\n",
       "        vertical-align: middle;\n",
       "    }\n",
       "\n",
       "    .dataframe tbody tr th {\n",
       "        vertical-align: top;\n",
       "    }\n",
       "\n",
       "    .dataframe thead th {\n",
       "        text-align: right;\n",
       "    }\n",
       "</style>\n",
       "<table border=\"1\" class=\"dataframe\">\n",
       "  <thead>\n",
       "    <tr style=\"text-align: right;\">\n",
       "      <th></th>\n",
       "      <th>Name</th>\n",
       "      <th>Age</th>\n",
       "      <th>Weight</th>\n",
       "    </tr>\n",
       "  </thead>\n",
       "  <tbody>\n",
       "    <tr>\n",
       "      <th>15</th>\n",
       "      <td>P</td>\n",
       "      <td>1</td>\n",
       "      <td>22.511575</td>\n",
       "    </tr>\n",
       "    <tr>\n",
       "      <th>14</th>\n",
       "      <td>O</td>\n",
       "      <td>10</td>\n",
       "      <td>1.199960</td>\n",
       "    </tr>\n",
       "    <tr>\n",
       "      <th>23</th>\n",
       "      <td>X</td>\n",
       "      <td>13</td>\n",
       "      <td>76.472622</td>\n",
       "    </tr>\n",
       "    <tr>\n",
       "      <th>13</th>\n",
       "      <td>N</td>\n",
       "      <td>11</td>\n",
       "      <td>96.223997</td>\n",
       "    </tr>\n",
       "    <tr>\n",
       "      <th>18</th>\n",
       "      <td>S</td>\n",
       "      <td>26</td>\n",
       "      <td>20.604041</td>\n",
       "    </tr>\n",
       "  </tbody>\n",
       "</table>\n",
       "</div>"
      ],
      "text/plain": [
       "   Name  Age     Weight\n",
       "15    P    1  22.511575\n",
       "14    O   10   1.199960\n",
       "23    X   13  76.472622\n",
       "13    N   11  96.223997\n",
       "18    S   26  20.604041"
      ]
     },
     "execution_count": 79,
     "metadata": {
      "tags": []
     },
     "output_type": "execute_result"
    }
   ],
   "source": [
    "sample_data.head()"
   ]
  },
  {
   "cell_type": "markdown",
   "metadata": {
    "id": "kdvR1wQRbDLb"
   },
   "source": [
    "**Using loop :**"
   ]
  },
  {
   "cell_type": "code",
   "execution_count": 76,
   "metadata": {
    "colab": {
     "base_uri": "https://localhost:8080/"
    },
    "id": "iEu-Q0ycbCFb",
    "outputId": "3e03fa30-7c62-4b55-d91f-fdcb6e3dbb3f"
   },
   "outputs": [
    {
     "data": {
      "text/plain": [
       "579.7045015593661"
      ]
     },
     "execution_count": 76,
     "metadata": {
      "tags": []
     },
     "output_type": "execute_result"
    }
   ],
   "source": [
    "sum = 0\n",
    "\n",
    "for i in sample_data.index:\n",
    "   sum = sum + sample_data.Weight[i]\n",
    "\n",
    "sum"
   ]
  },
  {
   "cell_type": "code",
   "execution_count": 77,
   "metadata": {
    "colab": {
     "base_uri": "https://localhost:8080/"
    },
    "id": "J4fdN0wbbB2J",
    "outputId": "b5da2b8e-197e-4484-cc2f-277cd23c0188"
   },
   "outputs": [
    {
     "data": {
      "text/plain": [
       "48.30870846328051"
      ]
     },
     "execution_count": 77,
     "metadata": {
      "tags": []
     },
     "output_type": "execute_result"
    }
   ],
   "source": [
    "sum / sample_data.shape[0]"
   ]
  },
  {
   "cell_type": "markdown",
   "metadata": {
    "id": "wrFyfzKTeOJR"
   },
   "source": [
    "**Without loop(Using numpy array) :**"
   ]
  },
  {
   "cell_type": "code",
   "execution_count": 78,
   "metadata": {
    "colab": {
     "base_uri": "https://localhost:8080/"
    },
    "id": "h6IVpXgzYc1i",
    "outputId": "9c4e366e-c6ca-4b8e-cd4e-aeea6544e49a"
   },
   "outputs": [
    {
     "data": {
      "text/plain": [
       "48.30870846328051"
      ]
     },
     "execution_count": 78,
     "metadata": {
      "tags": []
     },
     "output_type": "execute_result"
    }
   ],
   "source": [
    "np.mean(sample_data.Weight)       # Average weight from sample data (SAMPLE MEAN)"
   ]
  },
  {
   "cell_type": "markdown",
   "metadata": {
    "id": "JgW2ysl7f3aC"
   },
   "source": [
    "\n",
    "\n",
    "---\n",
    "\n"
   ]
  },
  {
   "cell_type": "code",
   "execution_count": null,
   "metadata": {
    "id": "oLNf7XWyYpPm"
   },
   "outputs": [],
   "source": []
  }
 ],
 "metadata": {
  "colab": {
   "collapsed_sections": [],
   "name": "Statistics-For-DataScience",
   "provenance": []
  },
  "kernelspec": {
   "display_name": "Python 3",
   "language": "python",
   "name": "python3"
  },
  "language_info": {
   "codemirror_mode": {
    "name": "ipython",
    "version": 3
   },
   "file_extension": ".py",
   "mimetype": "text/x-python",
   "name": "python",
   "nbconvert_exporter": "python",
   "pygments_lexer": "ipython3",
   "version": "3.8.3"
  }
 },
 "nbformat": 4,
 "nbformat_minor": 1
}
