{
  "nbformat": 4,
  "nbformat_minor": 0,
  "metadata": {
    "colab": {
      "name": "Hypothesis Testing",
      "provenance": [],
      "collapsed_sections": []
    },
    "kernelspec": {
      "name": "python3",
      "display_name": "Python 3"
    }
  },
  "cells": [
    {
      "cell_type": "markdown",
      "metadata": {
        "id": "9aWCVZLg1lnE"
      },
      "source": [
        "### **Hyphothesis testing**\r\n",
        "- used to prove or disprove phenomenon\r\n",
        "\r\n",
        "- **Ho : Null hyphothesis**\r\n",
        "- **Ha : Alternate hyphothesis**"
      ]
    },
    {
      "cell_type": "markdown",
      "metadata": {
        "id": "6D8SskE82L33"
      },
      "source": [
        "**Importimg required libraries**"
      ]
    },
    {
      "cell_type": "code",
      "metadata": {
        "id": "cffO1b9aiEBR"
      },
      "source": [
        "import numpy as np\r\n",
        "import pandas as pd\r\n",
        "from scipy import stats\r\n",
        "import matplotlib.pyplot as plt\r\n",
        "import seaborn as sbn"
      ],
      "execution_count": 78,
      "outputs": []
    },
    {
      "cell_type": "code",
      "metadata": {
        "colab": {
          "base_uri": "https://localhost:8080/",
          "height": 202
        },
        "id": "R35_n0192daK",
        "outputId": "1df51984-1302-4951-96e1-7aa67929284d"
      },
      "source": [
        "dataset = sbn.load_dataset('titanic')\r\n",
        "\r\n",
        "dataset.head().select_dtypes(exclude=['O',bool])"
      ],
      "execution_count": 3,
      "outputs": [
        {
          "output_type": "execute_result",
          "data": {
            "text/html": [
              "<div>\n",
              "<style scoped>\n",
              "    .dataframe tbody tr th:only-of-type {\n",
              "        vertical-align: middle;\n",
              "    }\n",
              "\n",
              "    .dataframe tbody tr th {\n",
              "        vertical-align: top;\n",
              "    }\n",
              "\n",
              "    .dataframe thead th {\n",
              "        text-align: right;\n",
              "    }\n",
              "</style>\n",
              "<table border=\"1\" class=\"dataframe\">\n",
              "  <thead>\n",
              "    <tr style=\"text-align: right;\">\n",
              "      <th></th>\n",
              "      <th>survived</th>\n",
              "      <th>pclass</th>\n",
              "      <th>age</th>\n",
              "      <th>sibsp</th>\n",
              "      <th>parch</th>\n",
              "      <th>fare</th>\n",
              "      <th>class</th>\n",
              "      <th>deck</th>\n",
              "    </tr>\n",
              "  </thead>\n",
              "  <tbody>\n",
              "    <tr>\n",
              "      <th>0</th>\n",
              "      <td>0</td>\n",
              "      <td>3</td>\n",
              "      <td>22.0</td>\n",
              "      <td>1</td>\n",
              "      <td>0</td>\n",
              "      <td>7.2500</td>\n",
              "      <td>Third</td>\n",
              "      <td>NaN</td>\n",
              "    </tr>\n",
              "    <tr>\n",
              "      <th>1</th>\n",
              "      <td>1</td>\n",
              "      <td>1</td>\n",
              "      <td>38.0</td>\n",
              "      <td>1</td>\n",
              "      <td>0</td>\n",
              "      <td>71.2833</td>\n",
              "      <td>First</td>\n",
              "      <td>C</td>\n",
              "    </tr>\n",
              "    <tr>\n",
              "      <th>2</th>\n",
              "      <td>1</td>\n",
              "      <td>3</td>\n",
              "      <td>26.0</td>\n",
              "      <td>0</td>\n",
              "      <td>0</td>\n",
              "      <td>7.9250</td>\n",
              "      <td>Third</td>\n",
              "      <td>NaN</td>\n",
              "    </tr>\n",
              "    <tr>\n",
              "      <th>3</th>\n",
              "      <td>1</td>\n",
              "      <td>1</td>\n",
              "      <td>35.0</td>\n",
              "      <td>1</td>\n",
              "      <td>0</td>\n",
              "      <td>53.1000</td>\n",
              "      <td>First</td>\n",
              "      <td>C</td>\n",
              "    </tr>\n",
              "    <tr>\n",
              "      <th>4</th>\n",
              "      <td>0</td>\n",
              "      <td>3</td>\n",
              "      <td>35.0</td>\n",
              "      <td>0</td>\n",
              "      <td>0</td>\n",
              "      <td>8.0500</td>\n",
              "      <td>Third</td>\n",
              "      <td>NaN</td>\n",
              "    </tr>\n",
              "  </tbody>\n",
              "</table>\n",
              "</div>"
            ],
            "text/plain": [
              "   survived  pclass   age  sibsp  parch     fare  class deck\n",
              "0         0       3  22.0      1      0   7.2500  Third  NaN\n",
              "1         1       1  38.0      1      0  71.2833  First    C\n",
              "2         1       3  26.0      0      0   7.9250  Third  NaN\n",
              "3         1       1  35.0      1      0  53.1000  First    C\n",
              "4         0       3  35.0      0      0   8.0500  Third  NaN"
            ]
          },
          "metadata": {
            "tags": []
          },
          "execution_count": 3
        }
      ]
    },
    {
      "cell_type": "markdown",
      "metadata": {
        "id": "QKCcun7-3flg"
      },
      "source": [
        "Ho :  "
      ]
    },
    {
      "cell_type": "code",
      "metadata": {
        "colab": {
          "base_uri": "https://localhost:8080/"
        },
        "id": "OGyhvi693SFV",
        "outputId": "bb6157a0-c295-40f9-967a-0352f38836ca"
      },
      "source": [
        "dataset.sex.unique()"
      ],
      "execution_count": 6,
      "outputs": [
        {
          "output_type": "execute_result",
          "data": {
            "text/plain": [
              "array(['male', 'female'], dtype=object)"
            ]
          },
          "metadata": {
            "tags": []
          },
          "execution_count": 6
        }
      ]
    },
    {
      "cell_type": "code",
      "metadata": {
        "colab": {
          "base_uri": "https://localhost:8080/",
          "height": 202
        },
        "id": "pvbC48Dq3bxd",
        "outputId": "5e669b11-188a-4978-b365-65a7515de5a5"
      },
      "source": [
        "male_data = dataset[dataset.sex == 'male']\r\n",
        "\r\n",
        "male_data.head()"
      ],
      "execution_count": 16,
      "outputs": [
        {
          "output_type": "execute_result",
          "data": {
            "text/html": [
              "<div>\n",
              "<style scoped>\n",
              "    .dataframe tbody tr th:only-of-type {\n",
              "        vertical-align: middle;\n",
              "    }\n",
              "\n",
              "    .dataframe tbody tr th {\n",
              "        vertical-align: top;\n",
              "    }\n",
              "\n",
              "    .dataframe thead th {\n",
              "        text-align: right;\n",
              "    }\n",
              "</style>\n",
              "<table border=\"1\" class=\"dataframe\">\n",
              "  <thead>\n",
              "    <tr style=\"text-align: right;\">\n",
              "      <th></th>\n",
              "      <th>survived</th>\n",
              "      <th>pclass</th>\n",
              "      <th>sex</th>\n",
              "      <th>age</th>\n",
              "      <th>sibsp</th>\n",
              "      <th>parch</th>\n",
              "      <th>fare</th>\n",
              "      <th>embarked</th>\n",
              "      <th>class</th>\n",
              "      <th>who</th>\n",
              "      <th>adult_male</th>\n",
              "      <th>deck</th>\n",
              "      <th>embark_town</th>\n",
              "      <th>alive</th>\n",
              "      <th>alone</th>\n",
              "    </tr>\n",
              "  </thead>\n",
              "  <tbody>\n",
              "    <tr>\n",
              "      <th>0</th>\n",
              "      <td>0</td>\n",
              "      <td>3</td>\n",
              "      <td>male</td>\n",
              "      <td>22.0</td>\n",
              "      <td>1</td>\n",
              "      <td>0</td>\n",
              "      <td>7.2500</td>\n",
              "      <td>S</td>\n",
              "      <td>Third</td>\n",
              "      <td>man</td>\n",
              "      <td>True</td>\n",
              "      <td>NaN</td>\n",
              "      <td>Southampton</td>\n",
              "      <td>no</td>\n",
              "      <td>False</td>\n",
              "    </tr>\n",
              "    <tr>\n",
              "      <th>4</th>\n",
              "      <td>0</td>\n",
              "      <td>3</td>\n",
              "      <td>male</td>\n",
              "      <td>35.0</td>\n",
              "      <td>0</td>\n",
              "      <td>0</td>\n",
              "      <td>8.0500</td>\n",
              "      <td>S</td>\n",
              "      <td>Third</td>\n",
              "      <td>man</td>\n",
              "      <td>True</td>\n",
              "      <td>NaN</td>\n",
              "      <td>Southampton</td>\n",
              "      <td>no</td>\n",
              "      <td>True</td>\n",
              "    </tr>\n",
              "    <tr>\n",
              "      <th>5</th>\n",
              "      <td>0</td>\n",
              "      <td>3</td>\n",
              "      <td>male</td>\n",
              "      <td>NaN</td>\n",
              "      <td>0</td>\n",
              "      <td>0</td>\n",
              "      <td>8.4583</td>\n",
              "      <td>Q</td>\n",
              "      <td>Third</td>\n",
              "      <td>man</td>\n",
              "      <td>True</td>\n",
              "      <td>NaN</td>\n",
              "      <td>Queenstown</td>\n",
              "      <td>no</td>\n",
              "      <td>True</td>\n",
              "    </tr>\n",
              "    <tr>\n",
              "      <th>6</th>\n",
              "      <td>0</td>\n",
              "      <td>1</td>\n",
              "      <td>male</td>\n",
              "      <td>54.0</td>\n",
              "      <td>0</td>\n",
              "      <td>0</td>\n",
              "      <td>51.8625</td>\n",
              "      <td>S</td>\n",
              "      <td>First</td>\n",
              "      <td>man</td>\n",
              "      <td>True</td>\n",
              "      <td>E</td>\n",
              "      <td>Southampton</td>\n",
              "      <td>no</td>\n",
              "      <td>True</td>\n",
              "    </tr>\n",
              "    <tr>\n",
              "      <th>7</th>\n",
              "      <td>0</td>\n",
              "      <td>3</td>\n",
              "      <td>male</td>\n",
              "      <td>2.0</td>\n",
              "      <td>3</td>\n",
              "      <td>1</td>\n",
              "      <td>21.0750</td>\n",
              "      <td>S</td>\n",
              "      <td>Third</td>\n",
              "      <td>child</td>\n",
              "      <td>False</td>\n",
              "      <td>NaN</td>\n",
              "      <td>Southampton</td>\n",
              "      <td>no</td>\n",
              "      <td>False</td>\n",
              "    </tr>\n",
              "  </tbody>\n",
              "</table>\n",
              "</div>"
            ],
            "text/plain": [
              "   survived  pclass   sex   age  ...  deck  embark_town  alive  alone\n",
              "0         0       3  male  22.0  ...   NaN  Southampton     no  False\n",
              "4         0       3  male  35.0  ...   NaN  Southampton     no   True\n",
              "5         0       3  male   NaN  ...   NaN   Queenstown     no   True\n",
              "6         0       1  male  54.0  ...     E  Southampton     no   True\n",
              "7         0       3  male   2.0  ...   NaN  Southampton     no  False\n",
              "\n",
              "[5 rows x 15 columns]"
            ]
          },
          "metadata": {
            "tags": []
          },
          "execution_count": 16
        }
      ]
    },
    {
      "cell_type": "code",
      "metadata": {
        "colab": {
          "base_uri": "https://localhost:8080/"
        },
        "id": "vL8lB8PZ6sij",
        "outputId": "3918574e-c1b2-47bf-cb62-13b1bdf5a1c9"
      },
      "source": [
        "male_data.age.isnull().sum()"
      ],
      "execution_count": 17,
      "outputs": [
        {
          "output_type": "execute_result",
          "data": {
            "text/plain": [
              "124"
            ]
          },
          "metadata": {
            "tags": []
          },
          "execution_count": 17
        }
      ]
    },
    {
      "cell_type": "code",
      "metadata": {
        "id": "-KYTG_pA6zWK"
      },
      "source": [
        "male_data.age.fillna(male_data.age.mean(),inplace=True)"
      ],
      "execution_count": null,
      "outputs": []
    },
    {
      "cell_type": "code",
      "metadata": {
        "colab": {
          "base_uri": "https://localhost:8080/"
        },
        "id": "3019_KXE6zyH",
        "outputId": "39550e06-b914-4719-92bd-7e64ba72998a"
      },
      "source": [
        "male_data.age.isnull().sum()"
      ],
      "execution_count": 22,
      "outputs": [
        {
          "output_type": "execute_result",
          "data": {
            "text/plain": [
              "0"
            ]
          },
          "metadata": {
            "tags": []
          },
          "execution_count": 22
        }
      ]
    },
    {
      "cell_type": "markdown",
      "metadata": {
        "id": "ppa2a-ld4fKj"
      },
      "source": [
        "### **Ho : Maximum Age of Males in Titanic is 30**\r\n",
        "### **Ha : Maximum Age of Males in Titanic is NOT 30**"
      ]
    },
    {
      "cell_type": "code",
      "metadata": {
        "id": "3uM9IUX2crse"
      },
      "source": [
        "hypo_mean = 30"
      ],
      "execution_count": 43,
      "outputs": []
    },
    {
      "cell_type": "markdown",
      "metadata": {
        "id": "FCKpyduKdD-t"
      },
      "source": [
        " ## **One Sample t-test**\r\n",
        "\r\n"
      ]
    },
    {
      "cell_type": "markdown",
      "metadata": {
        "id": "BXG2kOEU47-R"
      },
      "source": [
        "We have to prove that age of males in titanic is 30, If we fail to prove this assumption then **Alternate hyphothesis** will be true, which is that age of males in titanic is NOT 30"
      ]
    },
    {
      "cell_type": "markdown",
      "metadata": {
        "id": "-InDlpwA5qgm"
      },
      "source": [
        "**First check data distribution**"
      ]
    },
    {
      "cell_type": "code",
      "metadata": {
        "colab": {
          "base_uri": "https://localhost:8080/"
        },
        "id": "YYqUVH6w56bg",
        "outputId": "2a7388b4-e265-49cd-e12a-ddf4c449e7b4"
      },
      "source": [
        "print(f\"Skewness of Male's age is: {stats.skew(male_data.age)}\")\r\n",
        "print(f\"Kurtosis of Male's age is: {stats.kurtosis(male_data.age)}\")"
      ],
      "execution_count": 24,
      "outputs": [
        {
          "output_type": "stream",
          "text": [
            "Skewness of Male's age is: 0.534664568449746\n",
            "Kurtosis of Male's age is: 1.2529075417896056\n"
          ],
          "name": "stdout"
        }
      ]
    },
    {
      "cell_type": "code",
      "metadata": {
        "colab": {
          "base_uri": "https://localhost:8080/",
          "height": 334
        },
        "id": "fDZ7x0oP4dc-",
        "outputId": "671cd5a9-50a6-4098-e405-c1c6a33a2503"
      },
      "source": [
        "sbn.distplot(male_data.age)\r\n",
        "\r\n",
        "plt.show()"
      ],
      "execution_count": 25,
      "outputs": [
        {
          "output_type": "stream",
          "text": [
            "/usr/local/lib/python3.6/dist-packages/seaborn/distributions.py:2551: FutureWarning: `distplot` is a deprecated function and will be removed in a future version. Please adapt your code to use either `displot` (a figure-level function with similar flexibility) or `histplot` (an axes-level function for histograms).\n",
            "  warnings.warn(msg, FutureWarning)\n"
          ],
          "name": "stderr"
        },
        {
          "output_type": "display_data",
          "data": {
            "image/png": "[encoded data removed]",
            "text/plain": [
              "<Figure size 432x288 with 1 Axes>"
            ]
          },
          "metadata": {
            "tags": [],
            "needs_background": "light"
          }
        }
      ]
    },
    {
      "cell_type": "markdown",
      "metadata": {
        "id": "gSHyrRoO7r2D"
      },
      "source": [
        "**+ve Kurtosis**"
      ]
    },
    {
      "cell_type": "code",
      "metadata": {
        "id": "CLS3horrcRc0"
      },
      "source": [
        ""
      ],
      "execution_count": null,
      "outputs": []
    },
    {
      "cell_type": "markdown",
      "metadata": {
        "id": "20YQq0FacSE3"
      },
      "source": [
        "\r\n",
        "\r\n",
        "---\r\n",
        "\r\n",
        "\r\n",
        "\r\n",
        "\r\n",
        "\r\n"
      ]
    },
    {
      "cell_type": "code",
      "metadata": {
        "colab": {
          "base_uri": "https://localhost:8080/"
        },
        "id": "HkjPJnS-7elY",
        "outputId": "f5fd61c6-b656-4fc0-a0c2-ca158faa4e2c"
      },
      "source": [
        "age_transform = male_data['age'].transform([np.sqrt,np.exp,np.log,np.reciprocal])\r\n",
        "\r\n",
        "print(age_transform)"
      ],
      "execution_count": 32,
      "outputs": [
        {
          "output_type": "stream",
          "text": [
            "         sqrt           exp       log  reciprocal\n",
            "0    4.690416  3.584913e+09  3.091042    0.045455\n",
            "4    5.916080  1.586013e+15  3.555348    0.028571\n",
            "5    5.543162  2.210101e+13  3.425130    0.032545\n",
            "6    7.348469  2.830753e+23  3.988984    0.018519\n",
            "7    1.414214  7.389056e+00  0.693147    0.500000\n",
            "..        ...           ...       ...         ...\n",
            "883  5.291503  1.446257e+12  3.332205    0.035714\n",
            "884  5.000000  7.200490e+10  3.218876    0.040000\n",
            "886  5.196152  5.320482e+11  3.295837    0.037037\n",
            "889  5.099020  1.957296e+11  3.258097    0.038462\n",
            "890  5.656854  7.896296e+13  3.465736    0.031250\n",
            "\n",
            "[577 rows x 4 columns]\n"
          ],
          "name": "stdout"
        }
      ]
    },
    {
      "cell_type": "code",
      "metadata": {
        "colab": {
          "base_uri": "https://localhost:8080/",
          "height": 540
        },
        "id": "x6XDEFYJ8sYg",
        "outputId": "d1397d85-a216-450b-f03e-0e405b4c3aa3"
      },
      "source": [
        "age_transform.hist(bins=20, layout=(2,2), edgecolor='k', figsize=(10,8))\r\n",
        "\r\n",
        "plt.suptitle(\"Transformed Output\", size=15)\r\n",
        "plt.show()"
      ],
      "execution_count": 41,
      "outputs": [
        {
          "output_type": "display_data",
          "data": {
            "image/png": "[encoded data removed]",
            "text/plain": [
              "<Figure size 720x576 with 4 Axes>"
            ]
          },
          "metadata": {
            "tags": []
          }
        }
      ]
    },
    {
      "cell_type": "code",
      "metadata": {
        "colab": {
          "base_uri": "https://localhost:8080/",
          "height": 354
        },
        "id": "RDEfP7nkPgZa",
        "outputId": "22a5bc25-d314-4c98-a02b-e82ee73c71f9"
      },
      "source": [
        "sbn.distplot(age_transform.sqrt)"
      ],
      "execution_count": 37,
      "outputs": [
        {
          "output_type": "stream",
          "text": [
            "/usr/local/lib/python3.6/dist-packages/seaborn/distributions.py:2551: FutureWarning: `distplot` is a deprecated function and will be removed in a future version. Please adapt your code to use either `displot` (a figure-level function with similar flexibility) or `histplot` (an axes-level function for histograms).\n",
            "  warnings.warn(msg, FutureWarning)\n"
          ],
          "name": "stderr"
        },
        {
          "output_type": "execute_result",
          "data": {
            "text/plain": [
              "<matplotlib.axes._subplots.AxesSubplot at 0x7f3b02a57be0>"
            ]
          },
          "metadata": {
            "tags": []
          },
          "execution_count": 37
        },
        {
          "output_type": "display_data",
          "data": {
            "image/png": "[encoded data removed]",
            "text/plain": [
              "<Figure size 432x288 with 1 Axes>"
            ]
          },
          "metadata": {
            "tags": []
          }
        }
      ]
    },
    {
      "cell_type": "code",
      "metadata": {
        "colab": {
          "base_uri": "https://localhost:8080/"
        },
        "id": "FPHZO6uZRR0n",
        "outputId": "d276b2af-a30c-42c7-b9fa-32627f07fd8e"
      },
      "source": [
        "stats.skew(age_transform.sqrt)"
      ],
      "execution_count": 38,
      "outputs": [
        {
          "output_type": "execute_result",
          "data": {
            "text/plain": [
              "-0.8316840319010874"
            ]
          },
          "metadata": {
            "tags": []
          },
          "execution_count": 38
        }
      ]
    },
    {
      "cell_type": "code",
      "metadata": {
        "colab": {
          "base_uri": "https://localhost:8080/"
        },
        "id": "fnFd51c4RsKe",
        "outputId": "e73138df-7897-4090-d17e-91bd4f8bddfc"
      },
      "source": [
        "stats.kurtosis(age_transform.sqrt)"
      ],
      "execution_count": 40,
      "outputs": [
        {
          "output_type": "execute_result",
          "data": {
            "text/plain": [
              "2.466070429492083"
            ]
          },
          "metadata": {
            "tags": []
          },
          "execution_count": 40
        }
      ]
    },
    {
      "cell_type": "markdown",
      "metadata": {
        "id": "9zaL5vmYcLmr"
      },
      "source": [
        "\r\n",
        "\r\n",
        "---\r\n",
        "\r\n",
        "\r\n",
        "\r\n",
        "\r\n",
        "\r\n"
      ]
    },
    {
      "cell_type": "code",
      "metadata": {
        "colab": {
          "base_uri": "https://localhost:8080/",
          "height": 337
        },
        "id": "Vr2Kyzz9RtH8",
        "outputId": "37afc329-9b1e-47c7-f629-9ef154b8e829"
      },
      "source": [
        "sbn.distplot(male_data.age)\r\n",
        "\r\n",
        "plt.show()"
      ],
      "execution_count": 42,
      "outputs": [
        {
          "output_type": "stream",
          "text": [
            "/usr/local/lib/python3.6/dist-packages/seaborn/distributions.py:2551: FutureWarning: `distplot` is a deprecated function and will be removed in a future version. Please adapt your code to use either `displot` (a figure-level function with similar flexibility) or `histplot` (an axes-level function for histograms).\n",
            "  warnings.warn(msg, FutureWarning)\n"
          ],
          "name": "stderr"
        },
        {
          "output_type": "display_data",
          "data": {
            "image/png": "[encoded data removed]",
            "text/plain": [
              "<Figure size 432x288 with 1 Axes>"
            ]
          },
          "metadata": {
            "tags": []
          }
        }
      ]
    },
    {
      "cell_type": "code",
      "metadata": {
        "colab": {
          "base_uri": "https://localhost:8080/"
        },
        "id": "h0K8SGb4cZ_N",
        "outputId": "9a6a0482-4690-4dca-821a-cb8b965ad0e0"
      },
      "source": [
        "stats.ttest_1samp(male_data.age , hypo_mean)"
      ],
      "execution_count": 44,
      "outputs": [
        {
          "output_type": "execute_result",
          "data": {
            "text/plain": [
              "Ttest_1sampResult(statistic=1.3423913685573845, pvalue=0.17999795671256785)"
            ]
          },
          "metadata": {
            "tags": []
          },
          "execution_count": 44
        }
      ]
    },
    {
      "cell_type": "markdown",
      "metadata": {
        "id": "2gNIYbiCdb0a"
      },
      "source": [
        "\r\n",
        "\r\n",
        "---\r\n",
        "\r\n",
        "\r\n",
        "- **If pvalue < 5 %, We REJECT Null hyphothesis (Ho)**\r\n",
        "\r\n",
        "\r\n",
        "---\r\n",
        "\r\n",
        "OR\r\n",
        "\r\n",
        "---\r\n",
        "- **If  T(statistic) > Tc(T critical), We REJECT Null hyphothesis (Ho)**\r\n",
        "\r\n",
        "\r\n",
        "\r\n",
        "---\r\n",
        "\r\n",
        "\r\n",
        "\r\n",
        "\r\n",
        "\r\n"
      ]
    },
    {
      "cell_type": "markdown",
      "metadata": {
        "id": "NBI_R_mwea9S"
      },
      "source": [
        "## **Table for T critical**\r\n",
        "![tcrit.png](data:image/png;base64,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)"
      ]
    },
    {
      "cell_type": "code",
      "metadata": {
        "colab": {
          "base_uri": "https://localhost:8080/"
        },
        "id": "2d8HuXrAc10u",
        "outputId": "7cbcac3b-258d-4740-86c2-2e2528261773"
      },
      "source": [
        "stats.ttest_1samp(male_data.age , hypo_mean)"
      ],
      "execution_count": 47,
      "outputs": [
        {
          "output_type": "execute_result",
          "data": {
            "text/plain": [
              "Ttest_1sampResult(statistic=1.3423913685573845, pvalue=0.17999795671256785)"
            ]
          },
          "metadata": {
            "tags": []
          },
          "execution_count": 47
        }
      ]
    },
    {
      "cell_type": "markdown",
      "metadata": {
        "id": "AiWyEnLAfE2k"
      },
      "source": [
        "- **From above t-test, pvalue is > 5**\r\n",
        "\r\n",
        "\r\n",
        "---\r\n",
        "\r\n",
        "\r\n",
        " ALSO\r\n",
        "\r\n",
        "\r\n",
        "---\r\n",
        "\r\n",
        "- **T < Tc, So we FAIL to REJECT Null Hypothesis, ACCEPT Null Hypothesis (Ho) and REJECT Alternate Hypothesis (Ha)**\r\n",
        "\r\n",
        "\r\n",
        "\r\n",
        "---\r\n",
        "\r\n",
        "#### **Ho : Maximum Age of Males in Titanic is 30**\r\n",
        "#### **Ha : Maximum Age of Males in Titanic is NOT 30**"
      ]
    },
    {
      "cell_type": "code",
      "metadata": {
        "id": "WW5bJEDPjeOJ"
      },
      "source": [
        "# ------------------------------"
      ],
      "execution_count": null,
      "outputs": []
    },
    {
      "cell_type": "markdown",
      "metadata": {
        "id": "veBOVq1Xjsk-"
      },
      "source": [
        "\r\n",
        "\r\n",
        "---\r\n",
        "\r\n",
        "\r\n",
        "\r\n",
        "\r\n",
        "\r\n"
      ]
    },
    {
      "cell_type": "markdown",
      "metadata": {
        "id": "GpQRYhPNjPKs"
      },
      "source": [
        "## **Two Sample Independent t-test**"
      ]
    },
    {
      "cell_type": "markdown",
      "metadata": {
        "id": "0ZU9rdealJVH"
      },
      "source": [
        "- **Ho** :  Marriage age of Males in Pakistan and USA are same\r\n",
        "- **Ha** :  Marriage age of Males in Pakistan and USA are NOT same"
      ]
    },
    {
      "cell_type": "code",
      "metadata": {
        "id": "cZ8bHJyRc5pM"
      },
      "source": [
        "marriage_age_pk = [28,30,31,32,29,27,31,35,32,33,30,29,34]\r\n",
        "marriage_age_usa = [38,40,36,34,39,37,31,35,32,36,37,29,36]"
      ],
      "execution_count": 48,
      "outputs": []
    },
    {
      "cell_type": "code",
      "metadata": {
        "colab": {
          "base_uri": "https://localhost:8080/"
        },
        "id": "4aANey0smT5R",
        "outputId": "dcb2bbd1-aeab-4966-d490-49ff3a5cbd67"
      },
      "source": [
        "print(f\"Skewness of marriage age in Pakistan is: {stats.skew(marriage_age_pk)} \")\r\n",
        "print(f\"Skewness of marriage age in USA is: {stats.skew(marriage_age_usa)} \")\r\n",
        "print(f\"Kurtosis of marriage age in Pakistan is: {stats.kurtosis(marriage_age_pk)} \")\r\n",
        "print(f\"Kurtosis of marriage age in Pakistan is: {stats.kurtosis(marriage_age_pk)} \")"
      ],
      "execution_count": 49,
      "outputs": [
        {
          "output_type": "stream",
          "text": [
            "Skewness of marriage age in Pakistan is: 0.1514624556753041 \n",
            "Skewness of marriage age in USA is: -0.5776478087974849 \n",
            "Kurtosis of marriage age in Pakistan is: -0.7996506315506586 \n",
            "Kurtosis of marriage age in Pakistan is: -0.7996506315506586 \n"
          ],
          "name": "stdout"
        }
      ]
    },
    {
      "cell_type": "code",
      "metadata": {
        "colab": {
          "base_uri": "https://localhost:8080/",
          "height": 401
        },
        "id": "hhT59735m3yP",
        "outputId": "22d24525-d55c-4687-d523-3e4486317003"
      },
      "source": [
        "plt.figure(figsize=(8,4))\r\n",
        "plt.subplot(121)\r\n",
        "sbn.distplot(marriage_age_pk, color='g')\r\n",
        "plt.title(\"Marriage age in Pakistan\")\r\n",
        "\r\n",
        "plt.subplot(122)\r\n",
        "sbn.distplot(marriage_age_usa, color='b')\r\n",
        "plt.title(\"Marriage age in USA\")\r\n",
        "\r\n",
        "plt.tight_layout(pad=0.4, w_pad=0.5, h_pad=1.0)\r\n",
        "\r\n",
        "\r\n",
        "plt.show()"
      ],
      "execution_count": 76,
      "outputs": [
        {
          "output_type": "stream",
          "text": [
            "/usr/local/lib/python3.6/dist-packages/seaborn/distributions.py:2551: FutureWarning: `distplot` is a deprecated function and will be removed in a future version. Please adapt your code to use either `displot` (a figure-level function with similar flexibility) or `histplot` (an axes-level function for histograms).\n",
            "  warnings.warn(msg, FutureWarning)\n",
            "/usr/local/lib/python3.6/dist-packages/seaborn/distributions.py:2551: FutureWarning: `distplot` is a deprecated function and will be removed in a future version. Please adapt your code to use either `displot` (a figure-level function with similar flexibility) or `histplot` (an axes-level function for histograms).\n",
            "  warnings.warn(msg, FutureWarning)\n"
          ],
          "name": "stderr"
        },
        {
          "output_type": "display_data",
          "data": {
            "image/png": "[encoded data removed]",
            "text/plain": [
              "<Figure size 576x288 with 2 Axes>"
            ]
          },
          "metadata": {
            "tags": []
          }
        }
      ]
    },
    {
      "cell_type": "code",
      "metadata": {
        "colab": {
          "base_uri": "https://localhost:8080/"
        },
        "id": "ECO9LZkFnTee",
        "outputId": "a28c562d-4481-49ac-9ca2-067cb4fcf0f6"
      },
      "source": [
        "stats.ttest_ind(marriage_age_pk , marriage_age_usa)"
      ],
      "execution_count": 66,
      "outputs": [
        {
          "output_type": "execute_result",
          "data": {
            "text/plain": [
              "Ttest_indResult(statistic=-4.147804643518156, pvalue=0.00036245005684914345)"
            ]
          },
          "metadata": {
            "tags": []
          },
          "execution_count": 66
        }
      ]
    },
    {
      "cell_type": "markdown",
      "metadata": {
        "id": "3Jpg7sVOq1JK"
      },
      "source": [
        "As pvalue < 5% So We REJECT Null hyphothesis(Ho) and ACCEPT Alternate Hyphothesis(Ha)\r\n",
        "\r\n",
        "\r\n",
        "---\r\n",
        "- **Ho** :  Marriage age of Males in Pakistan and USA are same\r\n",
        "- **Ha** :  Marriage age of Males in Pakistan and USA are NOT same\r\n"
      ]
    },
    {
      "cell_type": "markdown",
      "metadata": {
        "id": "X2no0wvM__iq"
      },
      "source": [
        "\r\n",
        "\r\n",
        "---\r\n",
        "\r\n",
        "\r\n",
        "\r\n",
        "\r\n",
        "\r\n"
      ]
    },
    {
      "cell_type": "markdown",
      "metadata": {
        "id": "Zv-SwxwOACFB"
      },
      "source": [
        "## **Two Sample Relational T-Test**"
      ]
    },
    {
      "cell_type": "markdown",
      "metadata": {
        "id": "B7d_IQ8SBTFW"
      },
      "source": [
        "According to research, **Sleep before exam is necessary to achieve good marks**. So we conduct research about this statement. We conduct test of some students before sleep after after sleep based on data we have to **APPROVE** or **DISAPPROVE**  this assumption."
      ]
    },
    {
      "cell_type": "markdown",
      "metadata": {
        "id": "8vfrAEc-GbOk"
      },
      "source": [
        "So here\r\n",
        "- **Ho :** Marks **before sleep** and **after sleep** is same\r\n",
        "- **Ha :** Marks **before sleep** and **after sleep** is **NOT** same"
      ]
    },
    {
      "cell_type": "code",
      "metadata": {
        "colab": {
          "base_uri": "https://localhost:8080/",
          "height": 202
        },
        "id": "ghL_5MmHqcO4",
        "outputId": "c39a1754-43e5-4442-9325-ab33eef47757"
      },
      "source": [
        "test_before_sleep = pd.DataFrame({\"Student Name\":[\"A\",'B','C','D','E','F','G','H',\"I\",\"J\",'K'],\r\n",
        "                             \"Test Marks\":[45,56,78,55,82,57,79,50,56,57,66],\r\n",
        "                             \"Total Marks\": 100\r\n",
        "                             })\r\n",
        "\r\n",
        "test_before_sleep.sample(frac=1).head()"
      ],
      "execution_count": 101,
      "outputs": [
        {
          "output_type": "execute_result",
          "data": {
            "text/html": [
              "<div>\n",
              "<style scoped>\n",
              "    .dataframe tbody tr th:only-of-type {\n",
              "        vertical-align: middle;\n",
              "    }\n",
              "\n",
              "    .dataframe tbody tr th {\n",
              "        vertical-align: top;\n",
              "    }\n",
              "\n",
              "    .dataframe thead th {\n",
              "        text-align: right;\n",
              "    }\n",
              "</style>\n",
              "<table border=\"1\" class=\"dataframe\">\n",
              "  <thead>\n",
              "    <tr style=\"text-align: right;\">\n",
              "      <th></th>\n",
              "      <th>Student Name</th>\n",
              "      <th>Test Marks</th>\n",
              "      <th>Total Marks</th>\n",
              "    </tr>\n",
              "  </thead>\n",
              "  <tbody>\n",
              "    <tr>\n",
              "      <th>9</th>\n",
              "      <td>J</td>\n",
              "      <td>57</td>\n",
              "      <td>100</td>\n",
              "    </tr>\n",
              "    <tr>\n",
              "      <th>5</th>\n",
              "      <td>F</td>\n",
              "      <td>57</td>\n",
              "      <td>100</td>\n",
              "    </tr>\n",
              "    <tr>\n",
              "      <th>10</th>\n",
              "      <td>K</td>\n",
              "      <td>66</td>\n",
              "      <td>100</td>\n",
              "    </tr>\n",
              "    <tr>\n",
              "      <th>1</th>\n",
              "      <td>B</td>\n",
              "      <td>56</td>\n",
              "      <td>100</td>\n",
              "    </tr>\n",
              "    <tr>\n",
              "      <th>3</th>\n",
              "      <td>D</td>\n",
              "      <td>55</td>\n",
              "      <td>100</td>\n",
              "    </tr>\n",
              "  </tbody>\n",
              "</table>\n",
              "</div>"
            ],
            "text/plain": [
              "   Student Name  Test Marks  Total Marks\n",
              "9             J          57          100\n",
              "5             F          57          100\n",
              "10            K          66          100\n",
              "1             B          56          100\n",
              "3             D          55          100"
            ]
          },
          "metadata": {
            "tags": []
          },
          "execution_count": 101
        }
      ]
    },
    {
      "cell_type": "code",
      "metadata": {
        "colab": {
          "base_uri": "https://localhost:8080/",
          "height": 202
        },
        "id": "yssEebBWE0DQ",
        "outputId": "5ca43470-99c7-4910-fc28-7c0a721da578"
      },
      "source": [
        "test_after_sleep = pd.DataFrame({\"Student Name\":[\"A\",'B','C','D','E','F','G','H',\"I\",\"J\",'K'],\r\n",
        "                             \"Test Marks\":[50,68,80,57,85,70,82,80,66,63,70],\r\n",
        "                             \"Total Marks\": 100\r\n",
        "                             })\r\n",
        "[45,56,78,55,82,57,79,50,56,57,66]\r\n",
        "test_after_sleep.sample(frac=1).head()"
      ],
      "execution_count": 102,
      "outputs": [
        {
          "output_type": "execute_result",
          "data": {
            "text/html": [
              "<div>\n",
              "<style scoped>\n",
              "    .dataframe tbody tr th:only-of-type {\n",
              "        vertical-align: middle;\n",
              "    }\n",
              "\n",
              "    .dataframe tbody tr th {\n",
              "        vertical-align: top;\n",
              "    }\n",
              "\n",
              "    .dataframe thead th {\n",
              "        text-align: right;\n",
              "    }\n",
              "</style>\n",
              "<table border=\"1\" class=\"dataframe\">\n",
              "  <thead>\n",
              "    <tr style=\"text-align: right;\">\n",
              "      <th></th>\n",
              "      <th>Student Name</th>\n",
              "      <th>Test Marks</th>\n",
              "      <th>Total Marks</th>\n",
              "    </tr>\n",
              "  </thead>\n",
              "  <tbody>\n",
              "    <tr>\n",
              "      <th>9</th>\n",
              "      <td>J</td>\n",
              "      <td>63</td>\n",
              "      <td>100</td>\n",
              "    </tr>\n",
              "    <tr>\n",
              "      <th>5</th>\n",
              "      <td>F</td>\n",
              "      <td>70</td>\n",
              "      <td>100</td>\n",
              "    </tr>\n",
              "    <tr>\n",
              "      <th>10</th>\n",
              "      <td>K</td>\n",
              "      <td>70</td>\n",
              "      <td>100</td>\n",
              "    </tr>\n",
              "    <tr>\n",
              "      <th>3</th>\n",
              "      <td>D</td>\n",
              "      <td>57</td>\n",
              "      <td>100</td>\n",
              "    </tr>\n",
              "    <tr>\n",
              "      <th>2</th>\n",
              "      <td>C</td>\n",
              "      <td>80</td>\n",
              "      <td>100</td>\n",
              "    </tr>\n",
              "  </tbody>\n",
              "</table>\n",
              "</div>"
            ],
            "text/plain": [
              "   Student Name  Test Marks  Total Marks\n",
              "9             J          63          100\n",
              "5             F          70          100\n",
              "10            K          70          100\n",
              "3             D          57          100\n",
              "2             C          80          100"
            ]
          },
          "metadata": {
            "tags": []
          },
          "execution_count": 102
        }
      ]
    },
    {
      "cell_type": "code",
      "metadata": {
        "colab": {
          "base_uri": "https://localhost:8080/"
        },
        "id": "JfLP8rW5IVpy",
        "outputId": "8dd9e5db-2f2a-4930-836f-9851ab15e87b"
      },
      "source": [
        "print(f\"Skewness of student's marks before sleep: {stats.skew(test_before_sleep['Test Marks'])}\")\r\n",
        "print(f\"Skewness of student's marks after sleep: {stats.skew(test_after_sleep['Test Marks'])}\")\r\n",
        "\r\n",
        "print(f\"Kurtosis of student's marks before sleep: {stats.kurtosis(test_before_sleep['Test Marks'])}\")\r\n",
        "print(f\"Kurtosis of student's marks after sleep: {stats.kurtosis(test_before_sleep['Test Marks'])}\")"
      ],
      "execution_count": 103,
      "outputs": [
        {
          "output_type": "stream",
          "text": [
            "Skewness of student's marks before sleep: 0.5268465212013543\n",
            "Skewness of student's marks after sleep: -0.30360448175974125\n",
            "Kurtosis of student's marks before sleep: -1.0985962369099564\n",
            "Kurtosis of student's marks after sleep: -1.0985962369099564\n"
          ],
          "name": "stdout"
        }
      ]
    },
    {
      "cell_type": "code",
      "metadata": {
        "colab": {
          "base_uri": "https://localhost:8080/",
          "height": 401
        },
        "id": "hEamm02SIuA4",
        "outputId": "1ea4bf99-579f-47f2-e21a-a5b3be876e97"
      },
      "source": [
        "plt.figure(figsize=(8,4))\r\n",
        "plt.subplot(121)\r\n",
        "sbn.distplot(test_before_sleep['Test Marks'], color='g')\r\n",
        "plt.title(\"\\nDistribution of Marks before sleep\\n\", size=15)\r\n",
        "\r\n",
        "plt.subplot(122)\r\n",
        "sbn.distplot(test_after_sleep['Test Marks'], color='b')\r\n",
        "plt.title(\"\\nDistribution of Marks After sleep\\n\", size=15)\r\n",
        "\r\n",
        "plt.tight_layout(pad=0.4, w_pad=0.5, h_pad=1.0)\r\n",
        "\r\n",
        "\r\n",
        "plt.show()"
      ],
      "execution_count": 104,
      "outputs": [
        {
          "output_type": "stream",
          "text": [
            "/usr/local/lib/python3.6/dist-packages/seaborn/distributions.py:2551: FutureWarning: `distplot` is a deprecated function and will be removed in a future version. Please adapt your code to use either `displot` (a figure-level function with similar flexibility) or `histplot` (an axes-level function for histograms).\n",
            "  warnings.warn(msg, FutureWarning)\n",
            "/usr/local/lib/python3.6/dist-packages/seaborn/distributions.py:2551: FutureWarning: `distplot` is a deprecated function and will be removed in a future version. Please adapt your code to use either `displot` (a figure-level function with similar flexibility) or `histplot` (an axes-level function for histograms).\n",
            "  warnings.warn(msg, FutureWarning)\n"
          ],
          "name": "stderr"
        },
        {
          "output_type": "display_data",
          "data": {
            "image/png": "[encoded data removed]",
            "text/plain": [
              "<Figure size 576x288 with 2 Axes>"
            ]
          },
          "metadata": {
            "tags": []
          }
        }
      ]
    },
    {
      "cell_type": "code",
      "metadata": {
        "id": "QcywMa_4JzAN"
      },
      "source": [
        "# -------------------------------------"
      ],
      "execution_count": 99,
      "outputs": []
    },
    {
      "cell_type": "code",
      "metadata": {
        "colab": {
          "base_uri": "https://localhost:8080/"
        },
        "id": "uQfno7yZKFgb",
        "outputId": "8896a186-e4da-4114-d3ea-f0bd93c47bac"
      },
      "source": [
        "stats.ttest_rel(test_before_sleep['Test Marks'] , test_after_sleep['Test Marks'])"
      ],
      "execution_count": 106,
      "outputs": [
        {
          "output_type": "execute_result",
          "data": {
            "text/plain": [
              "Ttest_relResult(statistic=-3.291606134857343, pvalue=0.008127936672626809)"
            ]
          },
          "metadata": {
            "tags": []
          },
          "execution_count": 106
        }
      ]
    },
    {
      "cell_type": "markdown",
      "metadata": {
        "id": "TrUpxm8SKSb0"
      },
      "source": [
        "As pvalue < 5 %, So we **REJECT** Null hyphothesis and **ACCEPT** Alternate hyphothesis\r\n",
        "\r\n",
        "\r\n",
        "---\r\n",
        "- **Ho : Marks before sleep and after sleep is same**\r\n",
        "- **Ha : Marks before sleep and after sleep is NOT same**"
      ]
    },
    {
      "cell_type": "code",
      "metadata": {
        "id": "1NTRAdlcKQgQ"
      },
      "source": [
        ""
      ],
      "execution_count": null,
      "outputs": []
    }
  ]
}